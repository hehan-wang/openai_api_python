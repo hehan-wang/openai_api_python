{
 "cells": [
  {
   "cell_type": "code",
   "execution_count": 1,
   "outputs": [],
   "source": [
    "# 环境准备,填写你的API Key和Secret Key\n",
    "\n",
    "client_id = \"xxx\"\n",
    "client_secret=\"xxx\""
   ],
   "metadata": {
    "collapsed": false,
    "ExecuteTime": {
     "end_time": "2024-01-01T11:27:49.163706Z",
     "start_time": "2024-01-01T11:27:49.161272Z"
    }
   },
   "id": "7018e667726807fb"
  },
  {
   "cell_type": "code",
   "execution_count": 2,
   "id": "initial_id",
   "metadata": {
    "collapsed": true,
    "ExecuteTime": {
     "end_time": "2024-01-01T11:27:50.931650Z",
     "start_time": "2024-01-01T11:27:50.402482Z"
    }
   },
   "outputs": [
    {
     "name": "stdout",
     "output_type": "stream",
     "text": [
      "{\"id\":\"as-727ayt8zjq\",\"object\":\"chat.completion\",\"created\":1704108471,\"result\":\"您好，我是文心一言，英文名是ERNIE Bot。我能够与人对话互动，回答问题，协助创作，高效便捷地帮助人们获取信息、知识和灵感。\",\"is_truncated\":false,\"need_clear_history\":false,\"finish_reason\":\"normal\",\"usage\":{\"prompt_tokens\":2,\"completion_tokens\":33,\"total_tokens\":35}}\n"
     ]
    }
   ],
   "source": [
    "# 单轮\n",
    "import requests\n",
    "import json\n",
    "\n",
    "\n",
    "def get_access_token():\n",
    "    \"\"\"\n",
    "    使用 API Key，Secret Key 获取access_token，替换下列示例中的应用API Key、应用Secret Key\n",
    "    \"\"\"\n",
    "    url = f\"https://aip.baidubce.com/oauth/2.0/token?grant_type=client_credentials&client_id={client_id}&client_secret={client_secret}\"\n",
    "\n",
    "    payload = json.dumps(\"\")\n",
    "    headers = {\n",
    "        'Content-Type': 'application/json',\n",
    "        'Accept': 'application/json'\n",
    "    }\n",
    "\n",
    "    response = requests.request(\"POST\", url, headers=headers, data=payload)\n",
    "    return response.json().get(\"access_token\")\n",
    "\n",
    "\n",
    "def main():\n",
    "    url = \"https://aip.baidubce.com/rpc/2.0/ai_custom/v1/wenxinworkshop/chat/completions_pro?access_token=\" + get_access_token()\n",
    "\n",
    "    payload = json.dumps({\n",
    "        \"messages\": [\n",
    "            {\n",
    "                \"role\": \"user\",\n",
    "                \"content\": \"介绍一下你自己\"\n",
    "            }\n",
    "        ]\n",
    "    })\n",
    "    headers = {\n",
    "        'Content-Type': 'application/json'\n",
    "    }\n",
    "\n",
    "    response = requests.request(\"POST\", url, headers=headers, data=payload)\n",
    "\n",
    "    print(response.text)\n",
    "\n",
    "\n",
    "if __name__ == '__main__':\n",
    "    main()"
   ]
  },
  {
   "cell_type": "code",
   "execution_count": 9,
   "outputs": [
    {
     "name": "stdout",
     "output_type": "stream",
     "text": [
      "{\"id\":\"as-g70w295wd4\",\"object\":\"chat.completion\",\"created\":1704109545,\"result\":\"2024年1月7日上海气温-1~8℃，多云转阴，无持续风向\\u003c3级，空气质量优，空气质量指数36。\\n\\n\\n\\n近几日天气信息：\\n\\n* 2023-12-31：晴转多云，3~8℃，东风\\u003c3级，空气质量优。\\n\\n* 2024-01-01：多云，2~8℃，东北风\\u003c3级，空气质量良。\\n\\n* 2024-01-02：阴转小雨，4~11℃，无持续风向\\u003c3级，空气质量良。\\n\\n* 2024-01-03：晴，3~10℃，无持续风向\\u003c3级，空气质量良。\\n\\n* 2024-01-04：晴，3~10℃，无持续风向\\u003c3级，空气质量良。\\n\\n* 2024-01-05：多云转小雨，7~14℃，无持续风向\\u003c3级，空气质量良。\\n\\n* 2024-01-06：阴转多云，3~12℃，无持续风向\\u003c3级，空气质量良。\\n\\n* **2024-01-07：多云转阴，-1~8℃，无持续风向\\u003c3级，空气质量优**。\",\"is_truncated\":false,\"need_clear_history\":false,\"search_info\":{\"is_beset\":1,\"rewrite_query\":\"在上海，周末这里的天气怎么样？\",\"search_results\":[{\"index\":1,\"url\":\"\",\"title\":\"上海天气预报_一周天气预报\",\"datasource_id\":\"\"}]},\"finish_reason\":\"normal\",\"usage\":{\"prompt_tokens\":236,\"completion_tokens\":303,\"total_tokens\":539}}\n"
     ]
    }
   ],
   "source": [
    "# 多轮\n",
    "\n",
    "import requests\n",
    "import json\n",
    "\n",
    "\n",
    "def get_access_token():\n",
    "    \"\"\"\n",
    "    使用 API Key，Secret Key 获取access_token，替换下列示例中的应用API Key、应用Secret Key\n",
    "    \"\"\"\n",
    "\n",
    "    url = f\"https://aip.baidubce.com/oauth/2.0/token?grant_type=client_credentials&client_id={client_id}&client_secret={client_secret}\"\n",
    "\n",
    "    payload = json.dumps(\"\")\n",
    "    headers = {\n",
    "        'Content-Type': 'application/json',\n",
    "        'Accept': 'application/json'\n",
    "    }\n",
    "\n",
    "    response = requests.request(\"POST\", url, headers=headers, data=payload)\n",
    "    return response.json().get(\"access_token\")\n",
    "\n",
    "\n",
    "def main():\n",
    "    url = \"https://aip.baidubce.com/rpc/2.0/ai_custom/v1/wenxinworkshop/chat/completions_pro?access_token=\" + get_access_token()\n",
    "\n",
    "    payload = json.dumps({\n",
    "        \"enable_citation\": True,\n",
    "        \"messages\": [\n",
    "            {\n",
    "                \"role\": \"user\",\n",
    "                \"content\": \"请介绍一下你自己\"\n",
    "            },\n",
    "            {\n",
    "                \"role\": \"assistant\",\n",
    "                \"content\": \"我是百度公司开发的人工智能语言模型，我的中文名是文心一言，可以协助您完成范围广泛的任务并提供有关各种主题的信息，比如回答问题，提供定义和解释及建议。如果您有任何问题，请随时向我提问。\"\n",
    "            },\n",
    "            {\n",
    "                \"role\": \"user\",\n",
    "                \"content\": \"我在上海，周末可以去哪里玩？\"\n",
    "            },\n",
    "            {\n",
    "                \"role\": \"assistant\",\n",
    "                \"content\": \"上海是一个充满活力和文化氛围的城市，有很多适合周末游玩的地方。以下是几个值得推荐的地方：1. 上海科技馆：上海科技馆是中国大陆最大的科技馆之一，有许多互动展览和科学实验室，可以让您了解科技的发展历史和最新成果。2. 上海博物馆：上海博物馆是一座集艺术、历史和文化于一体的博物馆，有许多精美的艺术品和文物，可以让您深入了解中国和世界的文化历史。3. 外滩：外滩是上海的标志性景点之一，有许多高楼大厦和繁华的商业街区，是欣赏黄浦江美景和城市风貌的好去处。4. 上海迪士尼乐园：上海迪士尼乐园是世界上最大的迪士尼主题公园之一，有许多精彩的游乐项目和演出，可以让您尽情享受娱乐和欢乐。5. 上海野生动物园：上海野生动物园是一个以自然保护为主题的野生动物园，有许多珍稀动物和植物，可以让您近距离接触大自然。这些地方都是上海周末游玩的好去处，可以根据自己的兴趣和需求选择合适的行程。\"\n",
    "            },\n",
    "            {\n",
    "                \"role\": \"user\",\n",
    "                \"content\": \"周末这里的天气怎么样？\"\n",
    "            }\n",
    "        ]\n",
    "    })\n",
    "    headers = {\n",
    "        'Content-Type': 'application/json'\n",
    "    }\n",
    "\n",
    "    response = requests.request(\"POST\", url, headers=headers, data=payload)\n",
    "\n",
    "    print(response.text)\n",
    "\n",
    "\n",
    "if __name__ == '__main__':\n",
    "    main()"
   ],
   "metadata": {
    "collapsed": false,
    "ExecuteTime": {
     "end_time": "2024-01-01T11:45:45.189023Z",
     "start_time": "2024-01-01T11:45:42.797758Z"
    }
   },
   "id": "97cc8b6455dc9ec3"
  },
  {
   "cell_type": "code",
   "execution_count": 7,
   "outputs": [
    {
     "name": "stdout",
     "output_type": "stream",
     "text": [
      "data: {\"id\":\"as-11jznam3a6\",\"object\":\"chat.completion\",\"created\":1704109357,\"sentence_id\":0,\"is_end\":false,\"is_truncated\":false,\"result\":\"当然可以，\",\"need_clear_history\":false,\"finish_reason\":\"normal\",\"usage\":{\"prompt_tokens\":5,\"completion_tokens\":0,\"total_tokens\":5}}\n",
      "data: {\"id\":\"as-11jznam3a6\",\"object\":\"chat.completion\",\"created\":1704109360,\"sentence_id\":1,\"is_end\":false,\"is_truncated\":false,\"result\":\"以下是一些建议的自驾游路线：\\n\\n1. 西北大环线：西安-天水-兰州-嘉峪关-敦煌-哈密-乌鲁木齐-天池-\",\"need_clear_history\":false,\"finish_reason\":\"normal\",\"usage\":{\"prompt_tokens\":5,\"completion_tokens\":0,\"total_tokens\":5}}\n",
      "data: {\"id\":\"as-11jznam3a6\",\"object\":\"chat.completion\",\"created\":1704109361,\"sentence_id\":2,\"is_end\":false,\"is_truncated\":false,\"result\":\"库尔勒-轮台-和田-喀什。\",\"need_clear_history\":false,\"finish_reason\":\"normal\",\"usage\":{\"prompt_tokens\":5,\"completion_tokens\":0,\"total_tokens\":5}}\n",
      "data: {\"id\":\"as-11jznam3a6\",\"object\":\"chat.completion\",\"created\":1704109362,\"sentence_id\":3,\"is_end\":false,\"is_truncated\":false,\"result\":\"这条路线穿越了西北的大部分地区，可以欣赏到壮丽的自然风光和丰富的历史文化。\",\"need_clear_history\":false,\"finish_reason\":\"normal\",\"usage\":{\"prompt_tokens\":5,\"completion_tokens\":0,\"total_tokens\":5}}\n",
      "data: {\"id\":\"as-11jznam3a6\",\"object\":\"chat.completion\",\"created\":1704109364,\"sentence_id\":4,\"is_end\":false,\"is_truncated\":false,\"result\":\"\\n2. 海南环岛：从海口出发，沿着海南岛的海岸线一路向南，经过三亚、陵水、万宁、琼海\",\"need_clear_history\":false,\"finish_reason\":\"normal\",\"usage\":{\"prompt_tokens\":5,\"completion_tokens\":0,\"total_tokens\":5}}\n",
      "data: {\"id\":\"as-11jznam3a6\",\"object\":\"chat.completion\",\"created\":1704109365,\"sentence_id\":5,\"is_end\":false,\"is_truncated\":false,\"result\":\"等城市，最后回到海口。\",\"need_clear_history\":false,\"finish_reason\":\"normal\",\"usage\":{\"prompt_tokens\":5,\"completion_tokens\":0,\"total_tokens\":5}}\n",
      "data: {\"id\":\"as-11jznam3a6\",\"object\":\"chat.completion\",\"created\":1704109366,\"sentence_id\":6,\"is_end\":false,\"is_truncated\":false,\"result\":\"这条路线可以尽享海南的热带风情和美丽的海滩。\",\"need_clear_history\":false,\"finish_reason\":\"normal\",\"usage\":{\"prompt_tokens\":5,\"completion_tokens\":0,\"total_tokens\":5}}\n",
      "data: {\"id\":\"as-11jznam3a6\",\"object\":\"chat.completion\",\"created\":1704109368,\"sentence_id\":7,\"is_end\":false,\"is_truncated\":false,\"result\":\"\\n3. 穿越阿里大北线：成都-广元-汉中-西安-延安-银川-阿拉善左旗-额济纳旗\",\"need_clear_history\":false,\"finish_reason\":\"normal\",\"usage\":{\"prompt_tokens\":5,\"completion_tokens\":141,\"total_tokens\":146}}\n",
      "data: {\"id\":\"as-11jznam3a6\",\"object\":\"chat.completion\",\"created\":1704109369,\"sentence_id\":8,\"is_end\":false,\"is_truncated\":false,\"result\":\"-嘉峪关-敦煌-酒泉-丹霞地貌-张掖-武威-兰州。\",\"need_clear_history\":false,\"finish_reason\":\"normal\",\"usage\":{\"prompt_tokens\":5,\"completion_tokens\":141,\"total_tokens\":146}}\n",
      "data: {\"id\":\"as-11jznam3a6\",\"object\":\"chat.completion\",\"created\":1704109371,\"sentence_id\":9,\"is_end\":false,\"is_truncated\":false,\"result\":\"这条路线穿越了中国的北部地区，可以领略到大漠、戈壁、草原等多样化的自然风光。\",\"need_clear_history\":false,\"finish_reason\":\"normal\",\"usage\":{\"prompt_tokens\":5,\"completion_tokens\":141,\"total_tokens\":146}}\n",
      "data: {\"id\":\"as-11jznam3a6\",\"object\":\"chat.completion\",\"created\":1704109373,\"sentence_id\":10,\"is_end\":false,\"is_truncated\":false,\"result\":\"\\n4. 阿尔山自驾：北京-张家口-张北-太仆寺旗-锡林浩特-东乌珠穆沁旗-满都湖\",\"need_clear_history\":false,\"finish_reason\":\"normal\",\"usage\":{\"prompt_tokens\":5,\"completion_tokens\":141,\"total_tokens\":146}}\n",
      "data: {\"id\":\"as-11jznam3a6\",\"object\":\"chat.completion\",\"created\":1704109375,\"sentence_id\":11,\"is_end\":false,\"is_truncated\":false,\"result\":\"宝拉格-宝格达林场-五岔沟-阿尔山-伊尔施-新巴尔虎右旗-满州里-太\",\"need_clear_history\":false,\"finish_reason\":\"normal\",\"usage\":{\"prompt_tokens\":5,\"completion_tokens\":141,\"total_tokens\":146}}\n",
      "data: {\"id\":\"as-11jznam3a6\",\"object\":\"chat.completion\",\"created\":1704109375,\"sentence_id\":12,\"is_end\":false,\"is_truncated\":false,\"result\":\"仆寺旗-北京。\",\"need_clear_history\":false,\"finish_reason\":\"normal\",\"usage\":{\"prompt_tokens\":5,\"completion_tokens\":141,\"total_tokens\":146}}\n",
      "data: {\"id\":\"as-11jznam3a6\",\"object\":\"chat.completion\",\"created\":1704109376,\"sentence_id\":13,\"is_end\":false,\"is_truncated\":false,\"result\":\"这条路线穿越了内蒙古的草原和森林，可以欣赏到壮丽的自然风光和独特的蒙古族文化。\",\"need_clear_history\":false,\"finish_reason\":\"normal\",\"usage\":{\"prompt_tokens\":5,\"completion_tokens\":141,\"total_tokens\":146}}\n",
      "data: {\"id\":\"as-11jznam3a6\",\"object\":\"chat.completion\",\"created\":1704109378,\"sentence_id\":14,\"is_end\":false,\"is_truncated\":false,\"result\":\"\\n\\n以上路线仅供参考，具体行程安排可以根据您的时间和兴趣进行调整。\",\"need_clear_history\":false,\"finish_reason\":\"normal\",\"usage\":{\"prompt_tokens\":5,\"completion_tokens\":141,\"total_tokens\":146}}\n",
      "data: {\"id\":\"as-11jznam3a6\",\"object\":\"chat.completion\",\"created\":1704109380,\"sentence_id\":15,\"is_end\":false,\"is_truncated\":false,\"result\":\"在自驾游过程中，请注意安全驾驶，遵守交通规则，并提前了解目的地的天气和交通状况。\",\"need_clear_history\":false,\"finish_reason\":\"normal\",\"usage\":{\"prompt_tokens\":5,\"completion_tokens\":141,\"total_tokens\":146}}\n",
      "\n",
      "data: {\"id\":\"as-11jznam3a6\",\"object\":\"chat.completion\",\"created\":1704109380,\"sentence_id\":16,\"is_end\":false,\"is_truncated\":false,\"result\":\"祝您旅途愉快！\",\"need_clear_history\":false,\"finish_reason\":\"normal\",\"usage\":{\"prompt_tokens\":5,\"completion_tokens\":141,\"total_tokens\":146}}\n",
      "\n",
      "data: {\"id\":\"as-11jznam3a6\",\"object\":\"chat.completion\",\"created\":1704109380,\"sentence_id\":17,\"is_end\":true,\"is_truncated\":false,\"result\":\"\",\"need_clear_history\":false,\"finish_reason\":\"normal\",\"usage\":{\"prompt_tokens\":5,\"completion_tokens\":306,\"total_tokens\":311}}\n"
     ]
    }
   ],
   "source": [
    "# 流式输出\n",
    "\n",
    "import requests\n",
    "import json\n",
    "\n",
    "\n",
    "def get_access_token():\n",
    "    \"\"\"\n",
    "    使用 API Key，Secret Key 获取access_token，替换下列示例中的应用API Key、应用Secret Key\n",
    "    \"\"\"\n",
    "\n",
    "    url = f\"https://aip.baidubce.com/oauth/2.0/token?grant_type=client_credentials&client_id={client_id}&client_secret={client_secret}\"\n",
    "\n",
    "    payload = json.dumps(\"\")\n",
    "    headers = {\n",
    "        'Content-Type': 'application/json',\n",
    "        'Accept': 'application/json'\n",
    "    }\n",
    "\n",
    "    response = requests.request(\"POST\", url, headers=headers, data=payload)\n",
    "    return response.json().get(\"access_token\")\n",
    "\n",
    "\n",
    "def main():\n",
    "    url = \"https://aip.baidubce.com/rpc/2.0/ai_custom/v1/wenxinworkshop/chat/completions_pro?access_token=\" + get_access_token()\n",
    "\n",
    "    payload = json.dumps({\n",
    "        \"messages\": [\n",
    "            {\n",
    "                \"role\": \"user\",\n",
    "                \"content\": \"给我推荐一些自驾游路线\"\n",
    "            }\n",
    "        ],\n",
    "        \"stream\": True\n",
    "    })\n",
    "    headers = {\n",
    "        'Content-Type': 'application/json'\n",
    "    }\n",
    "\n",
    "    response = requests.request(\"POST\", url, headers=headers, data=payload, stream=True)\n",
    "\n",
    "    for line in response.iter_lines():\n",
    "        print(line.decode('utf-8'))\n",
    "\n",
    "\n",
    "if __name__ == '__main__':\n",
    "    main()"
   ],
   "metadata": {
    "collapsed": false,
    "ExecuteTime": {
     "end_time": "2024-01-01T11:43:00.666537Z",
     "start_time": "2024-01-01T11:42:35.809879Z"
    }
   },
   "id": "f096b472935ec757"
  }
 ],
 "metadata": {
  "kernelspec": {
   "display_name": "Python 3",
   "language": "python",
   "name": "python3"
  },
  "language_info": {
   "codemirror_mode": {
    "name": "ipython",
    "version": 2
   },
   "file_extension": ".py",
   "mimetype": "text/x-python",
   "name": "python",
   "nbconvert_exporter": "python",
   "pygments_lexer": "ipython2",
   "version": "2.7.6"
  }
 },
 "nbformat": 4,
 "nbformat_minor": 5
}
