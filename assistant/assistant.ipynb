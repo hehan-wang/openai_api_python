{
 "cells": [
  {
   "cell_type": "code",
   "execution_count": 6,
   "outputs": [],
   "source": [
    "# 初始化环境，可以设置成全局的环境变量，也可以在代码中指定\n",
    "from openai import OpenAI\n",
    "# 我自建的openai代理\n",
    "# os.environ['OPENAI_BASE_URL'] = 'https://proxy.hehanwang.com/v1'\n",
    "# 填写你自己的key\n",
    "# os.environ['OPENAI_API_KEY'] = 'sk-xxx'\n",
    "\n",
    "client = OpenAI()"
   ],
   "metadata": {
    "collapsed": false,
    "ExecuteTime": {
     "end_time": "2023-12-31T07:38:00.371065Z",
     "start_time": "2023-12-31T07:38:00.333541Z"
    }
   },
   "id": "9fc749be3820b6e"
  },
  {
   "cell_type": "code",
   "execution_count": 12,
   "id": "initial_id",
   "metadata": {
    "collapsed": true,
    "ExecuteTime": {
     "end_time": "2024-01-01T05:52:11.782597Z",
     "start_time": "2024-01-01T05:52:08.483200Z"
    }
   },
   "outputs": [
    {
     "name": "stdout",
     "output_type": "stream",
     "text": [
      "{\"id\":\"asst_wavYUy463SYBDSLcik8yooA8\",\"created_at\":1704088330,\"description\":\"数学老师\",\"file_ids\":[],\"instructions\":\"You are a personal math tutor. Write and run code to answer math questions.\",\"metadata\":{},\"model\":\"gpt-4-1106-preview\",\"name\":\"Math Tutor\",\"object\":\"assistant\",\"tools\":[{\"type\":\"code_interpreter\"}]}\n"
     ]
    }
   ],
   "source": [
    "# 1.  创建助手\n",
    "assistant = client.beta.assistants.create(\n",
    "    # 助手名称\n",
    "    name=\"Math Tutor\",\n",
    "    # 填写提示词\n",
    "    instructions=\"You are a personal math tutor. Write and run code to answer math questions.\",\n",
    "    # 助手的描述\n",
    "    description=\"数学老师\",\n",
    "    tools=[\n",
    "        # 开启代码解释器\n",
    "        {\"type\": \"code_interpreter\"}\n",
    "    ],\n",
    "    # 模型\n",
    "    model=\"gpt-4-1106-preview\"\n",
    ")\n",
    "print(assistant.model_dump_json())"
   ]
  },
  {
   "cell_type": "code",
   "execution_count": 17,
   "outputs": [
    {
     "name": "stdout",
     "output_type": "stream",
     "text": [
      "{\"data\":[{\"id\":\"asst_0sxLXccq88BZXwTpes2xlm8J\",\"created_at\":1704009667,\"description\":\"数学老师\",\"file_ids\":[],\"instructions\":\"You are a personal math tutor. Write and run code to answer math questions.\",\"metadata\":{},\"model\":\"gpt-4-1106-preview\",\"name\":\"Math Tutor\",\"object\":\"assistant\",\"tools\":[{\"type\":\"code_interpreter\"}]},{\"id\":\"asst_fxRmqNs5mfpIlDNCdDDmBtYW\",\"created_at\":1704005702,\"description\":null,\"file_ids\":[\"file-Wr37STwvSePp7cLLqQ9rp0Xo\"],\"instructions\":null,\"metadata\":{},\"model\":\"gpt-3.5-turbo-1106\",\"name\":\"高效能助手\",\"object\":\"assistant\",\"tools\":[{\"type\":\"code_interpreter\"},{\"type\":\"retrieval\"},{\"function\":{\"name\":\"get_weather\",\"description\":\"Determine weather in my location\",\"parameters\":{\"type\":\"object\",\"properties\":{\"location\":{\"type\":\"string\",\"description\":\"The city and state e.g. San Francisco, CA\"},\"unit\":{\"type\":\"string\",\"enum\":[\"c\",\"f\"]}},\"required\":[\"location\"]}},\"type\":\"function\"}]}],\"object\":\"list\",\"first_id\":\"asst_0sxLXccq88BZXwTpes2xlm8J\",\"last_id\":\"asst_fxRmqNs5mfpIlDNCdDDmBtYW\",\"has_more\":false}\n"
     ]
    }
   ],
   "source": [
    "# 获取assistants列表\n",
    "my_assistants = client.beta.assistants.list(\n",
    "    order=\"desc\",\n",
    "    limit=\"20\",\n",
    ")\n",
    "print(my_assistants.model_dump_json())"
   ],
   "metadata": {
    "collapsed": false,
    "ExecuteTime": {
     "end_time": "2024-01-01T06:01:26.337233Z",
     "start_time": "2024-01-01T06:01:23.859288Z"
    }
   },
   "id": "80105eb89ecb5b0e"
  },
  {
   "cell_type": "code",
   "execution_count": 15,
   "outputs": [
    {
     "name": "stdout",
     "output_type": "stream",
     "text": [
      "Assistant(id='asst_0sxLXccq88BZXwTpes2xlm8J', created_at=1704009667, description='数学老师', file_ids=[], instructions='You are a personal math tutor. Write and run code to answer math questions.', metadata={}, model='gpt-4-1106-preview', name='Math Tutor', object='assistant', tools=[ToolCodeInterpreter(type='code_interpreter')])\n"
     ]
    }
   ],
   "source": [
    "# 获取assistants详情\n",
    "my_assistant = client.beta.assistants.retrieve(\"asst_0sxLXccq88BZXwTpes2xlm8J\")\n",
    "print(my_assistant)"
   ],
   "metadata": {
    "collapsed": false,
    "ExecuteTime": {
     "end_time": "2024-01-01T05:55:01.439828Z",
     "start_time": "2024-01-01T05:54:51.754411Z"
    }
   },
   "id": "e027b73edf6c5afa"
  },
  {
   "cell_type": "code",
   "execution_count": 14,
   "outputs": [
    {
     "name": "stdout",
     "output_type": "stream",
     "text": [
      "AssistantDeleted(id='asst_wavYUy463SYBDSLcik8yooA8', deleted=True, object='assistant.deleted')\n"
     ]
    }
   ],
   "source": [
    "# 删除助手\n",
    "response = client.beta.assistants.delete(\"asst_wavYUy463SYBDSLcik8yooA8\")\n",
    "print(response)"
   ],
   "metadata": {
    "collapsed": false,
    "ExecuteTime": {
     "end_time": "2024-01-01T05:54:45.353679Z",
     "start_time": "2024-01-01T05:54:42.074415Z"
    }
   },
   "id": "d64f86382eda0234"
  },
  {
   "cell_type": "code",
   "execution_count": null,
   "outputs": [],
   "source": [
    "# 2. 创建线程\n",
    "\n"
   ],
   "metadata": {
    "collapsed": false
   },
   "id": "b4e6dab6f00500cf"
  }
 ],
 "metadata": {
  "kernelspec": {
   "display_name": "Python 3",
   "language": "python",
   "name": "python3"
  },
  "language_info": {
   "codemirror_mode": {
    "name": "ipython",
    "version": 2
   },
   "file_extension": ".py",
   "mimetype": "text/x-python",
   "name": "python",
   "nbconvert_exporter": "python",
   "pygments_lexer": "ipython2",
   "version": "2.7.6"
  }
 },
 "nbformat": 4,
 "nbformat_minor": 5
}
