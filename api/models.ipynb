{
 "cells": [
  {
   "cell_type": "code",
   "execution_count": 4,
   "outputs": [],
   "source": [
    "# 初始化环境\n",
    "import os\n",
    "\n",
    "os.environ['OPENAI_BASE_URL'] = 'https://key.wenwen-ai.com/v1'\n",
    "os.environ['OPENAI_API_KEY'] = 'sk-6V2exWFBSa2lmuZ7C0D773D1BaEd4fB7A1B6A0A265D550C6'"
   ],
   "metadata": {
    "collapsed": false,
    "ExecuteTime": {
     "end_time": "2023-12-30T15:14:11.005442Z",
     "start_time": "2023-12-30T15:14:10.998053Z"
    }
   },
   "id": "e12c106e30c000ae"
  },
  {
   "cell_type": "markdown",
   "source": [],
   "metadata": {
    "collapsed": false
   },
   "id": "ee97029fede12816"
  },
  {
   "cell_type": "code",
   "execution_count": 9,
   "outputs": [
    {
     "name": "stdout",
     "output_type": "stream",
     "text": [
      "{\"data\":[{\"id\":\"text-search-babbage-doc-001\",\"created\":1651172509,\"object\":\"model\",\"owned_by\":\"openai-dev\"},{\"id\":\"gpt-4-0613\",\"created\":1686588896,\"object\":\"model\",\"owned_by\":\"openai\"},{\"id\":\"curie-search-query\",\"created\":1651172509,\"object\":\"model\",\"owned_by\":\"openai-dev\"},{\"id\":\"gpt-4\",\"created\":1687882411,\"object\":\"model\",\"owned_by\":\"openai\"},{\"id\":\"text-davinci-003\",\"created\":1669599635,\"object\":\"model\",\"owned_by\":\"openai-internal\"},{\"id\":\"text-search-babbage-query-001\",\"created\":1651172509,\"object\":\"model\",\"owned_by\":\"openai-dev\"},{\"id\":\"babbage\",\"created\":1649358449,\"object\":\"model\",\"owned_by\":\"openai\"},{\"id\":\"babbage-search-query\",\"created\":1651172509,\"object\":\"model\",\"owned_by\":\"openai-dev\"},{\"id\":\"gpt-3.5-turbo-0613\",\"created\":1686587434,\"object\":\"model\",\"owned_by\":\"openai\"},{\"id\":\"text-babbage-001\",\"created\":1649364043,\"object\":\"model\",\"owned_by\":\"openai\"},{\"id\":\"text-similarity-davinci-001\",\"created\":1651172505,\"object\":\"model\",\"owned_by\":\"openai-dev\"},{\"id\":\"gpt-3.5-turbo\",\"created\":1677610602,\"object\":\"model\",\"owned_by\":\"openai\"},{\"id\":\"davinci-similarity\",\"created\":1651172509,\"object\":\"model\",\"owned_by\":\"openai-dev\"},{\"id\":\"curie-similarity\",\"created\":1651172510,\"object\":\"model\",\"owned_by\":\"openai-dev\"},{\"id\":\"babbage-search-document\",\"created\":1651172510,\"object\":\"model\",\"owned_by\":\"openai-dev\"},{\"id\":\"curie-instruct-beta\",\"created\":1649364042,\"object\":\"model\",\"owned_by\":\"openai\"},{\"id\":\"text-search-ada-doc-001\",\"created\":1651172507,\"object\":\"model\",\"owned_by\":\"openai-dev\"},{\"id\":\"gpt-3.5-turbo-0301\",\"created\":1677649963,\"object\":\"model\",\"owned_by\":\"openai\"},{\"id\":\"davinci-instruct-beta\",\"created\":1649364042,\"object\":\"model\",\"owned_by\":\"openai\"},{\"id\":\"gpt-3.5-turbo-16k-0613\",\"created\":1685474247,\"object\":\"model\",\"owned_by\":\"openai\"},{\"id\":\"gpt-3.5-turbo-1106\",\"created\":1698959748,\"object\":\"model\",\"owned_by\":\"system\"},{\"id\":\"text-similarity-babbage-001\",\"created\":1651172505,\"object\":\"model\",\"owned_by\":\"openai-dev\"},{\"id\":\"text-search-davinci-doc-001\",\"created\":1651172505,\"object\":\"model\",\"owned_by\":\"openai-dev\"},{\"id\":\"babbage-similarity\",\"created\":1651172505,\"object\":\"model\",\"owned_by\":\"openai-dev\"},{\"id\":\"text-embedding-ada-002\",\"created\":1671217299,\"object\":\"model\",\"owned_by\":\"openai-internal\"},{\"id\":\"davinci-search-query\",\"created\":1651172505,\"object\":\"model\",\"owned_by\":\"openai-dev\"},{\"id\":\"text-similarity-curie-001\",\"created\":1651172507,\"object\":\"model\",\"owned_by\":\"openai-dev\"},{\"id\":\"gpt-3.5-turbo-instruct\",\"created\":1692901427,\"object\":\"model\",\"owned_by\":\"system\"},{\"id\":\"gpt-3.5-turbo-16k\",\"created\":1683758102,\"object\":\"model\",\"owned_by\":\"openai-internal\"},{\"id\":\"text-davinci-001\",\"created\":1649364042,\"object\":\"model\",\"owned_by\":\"openai\"},{\"id\":\"text-search-davinci-query-001\",\"created\":1651172505,\"object\":\"model\",\"owned_by\":\"openai-dev\"},{\"id\":\"ada-search-document\",\"created\":1651172507,\"object\":\"model\",\"owned_by\":\"openai-dev\"},{\"id\":\"ada-code-search-code\",\"created\":1651172505,\"object\":\"model\",\"owned_by\":\"openai-dev\"},{\"id\":\"davinci-002\",\"created\":1692634301,\"object\":\"model\",\"owned_by\":\"system\"},{\"id\":\"gpt-3.5-turbo-instruct-0914\",\"created\":1694122472,\"object\":\"model\",\"owned_by\":\"system\"},{\"id\":\"babbage-002\",\"created\":1692634615,\"object\":\"model\",\"owned_by\":\"system\"},{\"id\":\"gpt-4-1106-preview\",\"created\":1698957206,\"object\":\"model\",\"owned_by\":\"system\"},{\"id\":\"gpt-4-vision-preview\",\"created\":1698894917,\"object\":\"model\",\"owned_by\":\"system\"},{\"id\":\"davinci-search-document\",\"created\":1651172509,\"object\":\"model\",\"owned_by\":\"openai-dev\"},{\"id\":\"curie-search-document\",\"created\":1651172508,\"object\":\"model\",\"owned_by\":\"openai-dev\"},{\"id\":\"babbage-code-search-code\",\"created\":1651172509,\"object\":\"model\",\"owned_by\":\"openai-dev\"},{\"id\":\"text-search-ada-query-001\",\"created\":1651172505,\"object\":\"model\",\"owned_by\":\"openai-dev\"},{\"id\":\"code-search-ada-text-001\",\"created\":1651172507,\"object\":\"model\",\"owned_by\":\"openai-dev\"},{\"id\":\"babbage-code-search-text\",\"created\":1651172509,\"object\":\"model\",\"owned_by\":\"openai-dev\"},{\"id\":\"code-search-babbage-code-001\",\"created\":1651172507,\"object\":\"model\",\"owned_by\":\"openai-dev\"},{\"id\":\"ada-search-query\",\"created\":1651172505,\"object\":\"model\",\"owned_by\":\"openai-dev\"},{\"id\":\"ada-code-search-text\",\"created\":1651172510,\"object\":\"model\",\"owned_by\":\"openai-dev\"},{\"id\":\"tts-1-hd\",\"created\":1699046015,\"object\":\"model\",\"owned_by\":\"system\"},{\"id\":\"text-search-curie-query-001\",\"created\":1651172509,\"object\":\"model\",\"owned_by\":\"openai-dev\"},{\"id\":\"text-davinci-002\",\"created\":1649880484,\"object\":\"model\",\"owned_by\":\"openai\"},{\"id\":\"code-search-babbage-text-001\",\"created\":1651172507,\"object\":\"model\",\"owned_by\":\"openai-dev\"},{\"id\":\"ada\",\"created\":1649357491,\"object\":\"model\",\"owned_by\":\"openai\"},{\"id\":\"text-ada-001\",\"created\":1649364042,\"object\":\"model\",\"owned_by\":\"openai\"},{\"id\":\"ada-similarity\",\"created\":1651172507,\"object\":\"model\",\"owned_by\":\"openai-dev\"},{\"id\":\"code-search-ada-code-001\",\"created\":1651172507,\"object\":\"model\",\"owned_by\":\"openai-dev\"},{\"id\":\"text-similarity-ada-001\",\"created\":1651172505,\"object\":\"model\",\"owned_by\":\"openai-dev\"},{\"id\":\"text-davinci-edit-001\",\"created\":1649809179,\"object\":\"model\",\"owned_by\":\"openai\"},{\"id\":\"code-davinci-edit-001\",\"created\":1649880484,\"object\":\"model\",\"owned_by\":\"openai\"},{\"id\":\"text-search-curie-doc-001\",\"created\":1651172509,\"object\":\"model\",\"owned_by\":\"openai-dev\"},{\"id\":\"whisper-1\",\"created\":1677532384,\"object\":\"model\",\"owned_by\":\"openai-internal\"},{\"id\":\"text-curie-001\",\"created\":1649364043,\"object\":\"model\",\"owned_by\":\"openai\"},{\"id\":\"curie\",\"created\":1649359874,\"object\":\"model\",\"owned_by\":\"openai\"},{\"id\":\"tts-1\",\"created\":1681940951,\"object\":\"model\",\"owned_by\":\"openai-internal\"},{\"id\":\"davinci\",\"created\":1649359874,\"object\":\"model\",\"owned_by\":\"openai\"},{\"id\":\"dall-e-2\",\"created\":1698798177,\"object\":\"model\",\"owned_by\":\"system\"},{\"id\":\"gpt-4-0314\",\"created\":1687882410,\"object\":\"model\",\"owned_by\":\"openai\"},{\"id\":\"tts-1-1106\",\"created\":1699053241,\"object\":\"model\",\"owned_by\":\"system\"},{\"id\":\"tts-1-hd-1106\",\"created\":1699053533,\"object\":\"model\",\"owned_by\":\"system\"}],\"object\":\"list\"}\n"
     ]
    }
   ],
   "source": [
    "# 获取模型\n",
    "from openai import OpenAI\n",
    "client = OpenAI()\n",
    "res = client.models.list()\n",
    "print(res.model_dump_json())"
   ],
   "metadata": {
    "collapsed": false,
    "ExecuteTime": {
     "end_time": "2023-12-30T15:17:06.863471Z",
     "start_time": "2023-12-30T15:16:59.611049Z"
    }
   },
   "id": "1072ff0deaf392f6"
  },
  {
   "cell_type": "code",
   "execution_count": 8,
   "outputs": [
    {
     "data": {
      "text/plain": "Model(id='dall-e-2', created=1698798177, object='model', owned_by='system')"
     },
     "execution_count": 8,
     "metadata": {},
     "output_type": "execute_result"
    }
   ],
   "source": [
    "# 模型详情\n",
    "from openai import OpenAI\n",
    "client = OpenAI()\n",
    "\n",
    "client.models.retrieve(\"dall-e-2\")\n"
   ],
   "metadata": {
    "collapsed": false,
    "ExecuteTime": {
     "end_time": "2023-12-30T15:16:03.871757Z",
     "start_time": "2023-12-30T15:16:00.806893Z"
    }
   },
   "id": "6e3f6202c2c174a9"
  },
  {
   "cell_type": "markdown",
   "source": [],
   "metadata": {
    "collapsed": false
   },
   "id": "9d29d2f7bf862918"
  }
 ],
 "metadata": {
  "kernelspec": {
   "display_name": "Python 3",
   "language": "python",
   "name": "python3"
  },
  "language_info": {
   "codemirror_mode": {
    "name": "ipython",
    "version": 2
   },
   "file_extension": ".py",
   "mimetype": "text/x-python",
   "name": "python",
   "nbconvert_exporter": "python",
   "pygments_lexer": "ipython2",
   "version": "2.7.6"
  }
 },
 "nbformat": 4,
 "nbformat_minor": 5
}
