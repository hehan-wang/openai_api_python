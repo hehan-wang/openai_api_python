{
 "cells": [
  {
   "cell_type": "code",
   "execution_count": 6,
   "id": "initial_id",
   "metadata": {
    "ExecuteTime": {
     "end_time": "2023-12-27T13:10:06.072048Z",
     "start_time": "2023-12-27T13:10:06.060595Z"
    },
    "collapsed": true,
    "jupyter": {
     "outputs_hidden": true
    }
   },
   "outputs": [],
   "source": [
    "# 初始化环境\n",
    "import os\n",
    "\n",
    "os.environ['OPENAI_BASE_URL'] = 'https://key.wenwen-ai.com/v1'\n",
    "os.environ['OPENAI_API_KEY'] = 'sk-6V2exWFBSa2lmuZ7C0D773D1BaEd4fB7A1B6A0A265D550C6'"
   ]
  },
  {
   "cell_type": "code",
   "execution_count": 4,
   "id": "89bab9e7181fa24e",
   "metadata": {
    "collapsed": false,
    "ExecuteTime": {
     "end_time": "2023-12-27T13:55:11.643390Z",
     "start_time": "2023-12-27T13:55:07.480502Z"
    }
   },
   "outputs": [
    {
     "name": "stdout",
     "output_type": "stream",
     "text": [
      "first call:{\"id\":\"chatcmpl-8aOfDjEjggoNalf2IsaFBxNHzFsAV\",\"choices\":[{\"finish_reason\":\"tool_calls\",\"index\":0,\"logprobs\":null,\"message\":{\"content\":null,\"role\":\"assistant\",\"function_call\":null,\"tool_calls\":[{\"id\":\"call_adFo57G5ryTResSaCPZFGDmM\",\"function\":{\"arguments\":\"{\\\"location\\\": \\\"Boston, MA\\\", \\\"unit\\\": \\\"celsius\\\"}\",\"name\":\"get_current_weather\"},\"type\":\"function\"}]}}],\"created\":1703685307,\"model\":\"gpt-3.5-turbo-1106\",\"object\":\"chat.completion\",\"system_fingerprint\":\"fp_772e8125bb\",\"usage\":{\"completion_tokens\":37,\"prompt_tokens\":86,\"total_tokens\":123}}\n",
      "second call:{\"content\":\"The weather in Boston today is 20 degrees Celsius.\",\"role\":\"assistant\",\"function_call\":null,\"tool_calls\":null}\n"
     ]
    }
   ],
   "source": [
    "from openai import OpenAI\n",
    "import json\n",
    "\n",
    "\n",
    "# tools 示例\n",
    "\n",
    "# 1. 定义函数\n",
    "# 1.1 定义模拟获取天气的本地函数\n",
    "def get_current_weather(location, unit):\n",
    "    # Call the weather API\n",
    "    return f\"It's 20 {unit} in {location}\"\n",
    "\n",
    "\n",
    "# 1.2 定义函数字典方便调用\n",
    "function_dict = {\n",
    "    \"get_current_weather\": get_current_weather,\n",
    "}\n",
    "\n",
    "# 1.3 定义chat接口需要的函数\n",
    "tools = [\n",
    "    {\n",
    "        \"type\": \"function\",\n",
    "        \"function\": {\n",
    "            \"name\": \"get_current_weather\",\n",
    "            \"description\": \"Get the current weather in a given location\",\n",
    "            \"parameters\": {\n",
    "                \"type\": \"object\",\n",
    "                \"properties\": {\n",
    "                    \"location\": {\n",
    "                        \"type\": \"string\",\n",
    "                        \"description\": \"The city and state, e.g. San Francisco, CA\",\n",
    "                    },\n",
    "                    \"unit\": {\"type\": \"string\", \"enum\": [\"celsius\", \"fahrenheit\"]},\n",
    "                },\n",
    "                \"required\": [\"location\"],\n",
    "            },\n",
    "        }\n",
    "    }\n",
    "]\n",
    "\n",
    "# 2. 第一次调用chat接口，返回的是函数调用的提示\n",
    "messages = [\n",
    "    {\"role\": \"user\", \"content\": \"What's the weather like in Boston today with celsius?\"}]\n",
    "\n",
    "client = OpenAI()\n",
    "completion = client.chat.completions.create(\n",
    "    model=\"gpt-3.5-turbo-1106\",\n",
    "    messages=messages,\n",
    "    tools=tools,\n",
    "    tool_choice=\"auto\",  # auto is default, but we'll be explicit\n",
    ")\n",
    "\n",
    "print(f\"first call:{completion.model_dump_json()}\")\n",
    "\n",
    "# 3. 从结果接口的结果中获取函数调用的参数 进行本地函数调用\n",
    "# 3.1 获取函数调用的参数\n",
    "response_message = completion.choices[0].message\n",
    "# 遍历tool_calls，获取函数调用的id，函数名，函数参数\n",
    "for tool_call in response_message.tool_calls:\n",
    "    tool_id = tool_call.id\n",
    "    function_name = tool_call.function.name\n",
    "    function_args = json.loads(tool_call.function.arguments)\n",
    "    # 3.2 调用本地函数\n",
    "    function_response = function_dict.get(function_name)(**function_args)\n",
    "    # 3.3 将本地函数的结果作为chat接口的输入\n",
    "    messages.append(response_message)\n",
    "    messages.append({\n",
    "        \"role\": \"tool\",\n",
    "        \"tool_call_id\": tool_id,\n",
    "        \"content\": function_response,\n",
    "    })\n",
    "\n",
    "# 4. 第二次调用chat接口，返回的是chat的最终结果\n",
    "completion_final = client.chat.completions.create(\n",
    "    model=\"gpt-3.5-turbo-1106\",\n",
    "    messages=messages,\n",
    ")\n",
    "print(f\"second call:{completion_final.choices[0].message.model_dump_json()}\")"
   ]
  }
 ],
 "metadata": {
  "kernelspec": {
   "display_name": "Python 3 (ipykernel)",
   "language": "python",
   "name": "python3"
  },
  "language_info": {
   "codemirror_mode": {
    "name": "ipython",
    "version": 3
   },
   "file_extension": ".py",
   "mimetype": "text/x-python",
   "name": "python",
   "nbconvert_exporter": "python",
   "pygments_lexer": "ipython3",
   "version": "3.11.5"
  }
 },
 "nbformat": 4,
 "nbformat_minor": 5
}
