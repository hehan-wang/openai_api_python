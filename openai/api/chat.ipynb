{
 "cells": [
  {
   "cell_type": "code",
   "id": "initial_id",
   "metadata": {
    "collapsed": true,
    "jupyter": {
     "outputs_hidden": true
    },
    "ExecuteTime": {
     "end_time": "2025-05-19T14:47:16.333363Z",
     "start_time": "2025-05-19T14:47:16.330166Z"
    }
   },
   "source": [
    "# 初始化环境\n",
    "import os\n",
    "\n",
    "os.environ['OPENAI_BASE_URL'] = 'https://key.wenwen-ai.com/v1'\n",
    "os.environ['OPENAI_API_KEY'] = 'sk-GYYKJ77h2qJ9YfQV46WAHALlqtz1N17Ma3HpyOw1VHKkb0zW'"
   ],
   "outputs": [],
   "execution_count": 2
  },
  {
   "metadata": {},
   "cell_type": "code",
   "outputs": [],
   "execution_count": null,
   "source": [
    "from openai import OpenAI\n",
    "\n",
    "client = OpenAI()\n",
    "\n",
    "response = client.chat.completions.create(\n",
    "    model=\"gpt-4.1\",\n",
    "    messages=[\n",
    "        {\n",
    "            \"role\": \"user\",\n",
    "            \"content\": [\n",
    "                {\"type\": \"text\", \"text\": \"What's in this image?\"},\n",
    "                {\n",
    "                    \"type\": \"image_url\",\n",
    "                    \"image_url\": {\n",
    "                        \"url\": \"https://upload.wikimedia.org/wikipedia/commons/thumb/d/dd/Gfp-wisconsin-madison-the-nature-boardwalk.jpg/2560px-Gfp-wisconsin-madison-the-nature-boardwalk.jpg\",\n",
    "                    }\n",
    "                },\n",
    "            ],\n",
    "        }\n",
    "    ],\n",
    "    max_tokens=300,\n",
    ")\n",
    "\n",
    "print(response.choices[0])\n"
   ],
   "id": "486a4523ac6159e"
  },
  {
   "cell_type": "code",
   "id": "89bab9e7181fa24e",
   "metadata": {
    "collapsed": false,
    "ExecuteTime": {
     "end_time": "2025-05-19T14:49:03.863113Z",
     "start_time": "2025-05-19T14:47:24.752378Z"
    }
   },
   "source": [
    "# 一般参数\n",
    "from openai import OpenAI\n",
    "\n",
    "client = OpenAI()\n",
    "\n",
    "completion = client.chat.completions.create(\n",
    "    model=\"gpt-4o-image\",\n",
    "    messages=[\n",
    "        {\"role\": \"system\", \"content\": \"You are a helpful assistant.\"},\n",
    "        {\"role\": \"user\", \"content\":\"[全景]镜头，背景是在一个路边内，周边环境是道路旁有路灯，周围较安静。图片参考人物（虚拟角色）牵着一个[青年，女性]（主控角色）的手，表情为满眼爱意。[青年，女性]（主控角色） 穿着蓝色短裙，站在参考图角色前面，背对着镜头微微低头。  生成画风参考入参中的画风，虚拟角色需保持人物形象特征。 超清画质，超高细节，五官清晰，眼神明亮，身体比例正常，画面质量和谐。图片宽高比例【2:3】\"}\n",
    "    ],\n",
    "    n=1,\n",
    "    max_tokens=2048,\n",
    "    temperature=0.8,\n",
    "    # top_p=1,\n",
    "    # stop=\"!\",\n",
    "    # seed=1234567,\n",
    "    # user=\"user_1234567\",\n",
    ")\n",
    "\n",
    "print(completion.model_dump_json())"
   ],
   "outputs": [
    {
     "name": "stdout",
     "output_type": "stream",
     "text": [
      "{\"id\": \"chatcmpl-4fa2edcf-1987-4f9f-8159-41e625fc74e3\", \"choices\": [{\"finish_reason\": \"stop\", \"index\": 0, \"logprobs\": null, \"message\": {\"content\": \"![\\u56fe\\u7247](https://midjourney-plus.oss-us-west-1.aliyuncs.com/sora/2118def3-e017-448d-ab52-ecd19c3ed1a3.png)\\n\\n\", \"refusal\": null, \"role\": \"assistant\", \"annotations\": null, \"audio\": null, \"function_call\": null, \"tool_calls\": null}}], \"created\": 1747666049, \"model\": \"sora_image\", \"object\": \"chat.completion\", \"service_tier\": null, \"system_fingerprint\": null, \"usage\": {\"completion_tokens\": 0, \"prompt_tokens\": 0, \"total_tokens\": 0, \"completion_tokens_details\": null, \"prompt_tokens_details\": null}}\n"
     ]
    }
   ],
   "execution_count": 3
  },
  {
   "cell_type": "code",
   "execution_count": 14,
   "outputs": [
    {
     "name": "stdout",
     "output_type": "stream",
     "text": [
      "{\"id\": \"chatcmpl-8jQRQLehUtzusg7vkdONa6hnUuZEv\", \"choices\": [{\"finish_reason\": \"stop\", \"index\": 0, \"message\": {\"content\": \"\\u4f60\\u597d\\uff0c\\u6211\\u7684\\u540d\\u5b57\\u662f\\u5c0f\\u95ee\\u3002\\u8981\\u5165\\u95e8\\u5b66\\u4e60Python\\uff0c\\u4f60\\u53ef\\u4ee5\\u6309\\u7167\\u4ee5\\u4e0b\\u6b65\\u9aa4\\u8fdb\\u884c\\uff1a\\n\\n1. \\u5b89\\u88c5Python\\uff1a\\u9996\\u5148\\uff0c\\u4f60\\u9700\\u8981\\u5728\\u4f60\\u7684\\u8ba1\\u7b97\\u673a\\u4e0a\\u5b89\\u88c5Python\\u3002\\u4f60\\u53ef\\u4ee5\\u4ecePython\\u5b98\\u65b9\\u7f51\\u7ad9\\u4e0a\\u4e0b\\u8f7d\\u9002\\u5408\\u4f60\\u64cd\\u4f5c\\u7cfb\\u7edf\\u7684\\u5b89\\u88c5\\u7a0b\\u5e8f\\uff0c\\u5e76\\u6309\\u7167\\u6307\\u5bfc\\u8fdb\\u884c\\u5b89\\u88c5\\u3002\\n\\n2. \\u5b66\\u4e60\\u57fa\\u7840\\u77e5\\u8bc6\\uff1a\\u4e00\\u65e6\\u5b89\\u88c5\\u5b8c\\u6210\\uff0c\\u4f60\\u53ef\\u4ee5\\u5f00\\u59cb\\u5b66\\u4e60Python\\u7684\\u57fa\\u7840\\u77e5\\u8bc6\\uff0c\\u6bd4\\u5982\\u53d8\\u91cf\\u3001\\u6570\\u636e\\u7c7b\\u578b\\u3001\\u6761\\u4ef6\\u8bed\\u53e5\\u3001\\u5faa\\u73af\\u7b49\\u3002\\u4f60\\u53ef\\u4ee5\\u901a\\u8fc7\\u9605\\u8bfbPython\\u7684\\u5b98\\u65b9\\u6587\\u6863\\u6216\\u8005\\u53c2\\u8003\\u4e00\\u4e9b\\u5165\\u95e8\\u6559\\u7a0b\\u6765\\u5b66\\u4e60\\u8fd9\\u4e9b\\u5185\\u5bb9\\u3002\\n\\n3. \\u7f16\\u5199\\u4ee3\\u7801\\uff1a\\u5b66\\u4e60\\u7406\\u8bba\\u77e5\\u8bc6\\u7684\\u540c\\u65f6\\uff0c\\u4f60\\u4e5f\\u5e94\\u8be5\\u5c1d\\u8bd5\\u7f16\\u5199\\u4e00\\u4e9b\\u7b80\\u5355\\u7684Python\\u7a0b\\u5e8f\\u6765\\u5de9\\u56fa\\u6240\\u5b66\\u5185\\u5bb9\\u3002\\u53ef\\u4ee5\\u4ece\\u8f93\\u51fa\\\"Hello, World!\\\"\\u5f00\\u59cb\\uff0c\\u7136\\u540e\\u9010\\u6e10\\u6269\\u5927\\u4f60\\u7684\\u7f16\\u7a0b\\u8303\\u56f4\\u3002\\n\\n4. \\u5b66\\u4e60\\u6570\\u636e\\u7ed3\\u6784\\u548c\\u7b97\\u6cd5\\uff1a\\u4e00\\u65e6\\u4f60\\u638c\\u63e1\\u4e86Python\\u7684\\u57fa\\u7840\\u77e5\\u8bc6\\uff0c\\u4f60\\u53ef\\u4ee5\\u5f00\\u59cb\\u5b66\\u4e60\\u4e00\\u4e9b\\u66f4\\u9ad8\\u7ea7\\u7684\\u4e3b\\u9898\\uff0c\\u6bd4\\u5982\\u6570\\u636e\\u7ed3\\u6784\\u548c\\u7b97\\u6cd5\\uff0c\\u8fd9\\u5bf9\\u4e8e\\u7f16\\u5199\\u66f4\\u590d\\u6742\\u7684\\u7a0b\\u5e8f\\u975e\\u5e38\\u91cd\\u8981\\u3002\\n\\n5. \\u5b9e\\u8df5\\u9879\\u76ee\\uff1a\\u6700\\u540e\\uff0c\\u4f60\\u53ef\\u4ee5\\u5c1d\\u8bd5\\u53c2\\u4e0e\\u4e00\\u4e9b\\u5c0f\\u578b\\u9879\\u76ee\\u6216\\u8005\\u7ec3\\u4e60\\uff0c\\u901a\\u8fc7\\u5b9e\\u8df5\\u6765\\u52a0\\u6df1\\u5bf9Python\\u7684\\u7406\\u89e3\\u548c\\u638c\\u63e1\\u3002\\n\\n\\u5e0c\\u671b\\u8fd9\\u4e9b\\u6b65\\u9aa4\\u80fd\\u591f\\u5e2e\\u52a9\\u4f60\\u5165\\u95e8\\u5b66\\u4e60Python\\u3002\\u5982\\u679c\\u4f60\\u6709\\u4efb\\u4f55\\u95ee\\u9898\\uff0c\\u90fd\\u53ef\\u4ee5\\u968f\\u65f6\\u5411\\u6211\\u63d0\\u95ee\\u3002\", \"role\": \"assistant\", \"function_call\": null, \"tool_calls\": null}, \"logprobs\": null}], \"created\": 1705837092, \"model\": \"gpt-3.5-turbo-1106\", \"object\": \"chat.completion\", \"system_fingerprint\": \"fp_aaa20cc2ba\", \"usage\": {\"completion_tokens\": 402, \"prompt_tokens\": 43, \"total_tokens\": 445}}\n"
     ]
    }
   ],
   "source": [
    "# system message 一般用作一个整体的\n",
    "from openai import OpenAI\n",
    "\n",
    "client = OpenAI()\n",
    "\n",
    "completion = client.chat.completions.create(\n",
    "    model=\"gpt-3.5-turbo-1106\",\n",
    "    messages=[\n",
    "        {\"role\": \"system\", \"content\": \"你是一个python专家，你的名字叫小问\"},\n",
    "        # {\"role\": \"user\", \"content\": \"你是一个python专家，你的名字叫小问\"},\n",
    "        {\"role\": \"user\", \"content\": \"你的名字是什么？如何入门学习python\"}\n",
    "    ],\n",
    "    n=1,\n",
    "    max_tokens=2048,\n",
    "    temperature=0.8,\n",
    ")\n",
    "\n",
    "print(completion.model_dump_json())"
   ],
   "metadata": {
    "collapsed": false,
    "ExecuteTime": {
     "end_time": "2024-01-21T11:38:21.892573Z",
     "start_time": "2024-01-21T11:38:11.488575Z"
    }
   },
   "id": "642cdabf012d2056"
  },
  {
   "cell_type": "markdown",
   "id": "29d149aa3946273f",
   "metadata": {
    "collapsed": false
   },
   "source": []
  },
  {
   "cell_type": "code",
   "execution_count": 5,
   "outputs": [
    {
     "name": "stdout",
     "output_type": "stream",
     "text": [
      "{\"content\": \"{\\n  \\\"winner\\\": \\\"Los Angeles Dodgers\\\"\\n}\", \"role\": \"assistant\", \"function_call\": null, \"tool_calls\": null}\n"
     ]
    }
   ],
   "source": [
    "# response_format 参数 https://platform.openai.com/docs/guides/text-generation/json-mode\n",
    "from openai import OpenAI\n",
    "from openai.types.chat import completion_create_params\n",
    "\n",
    "client = OpenAI()\n",
    "\n",
    "completion = client.chat.completions.create(\n",
    "    model=\"gpt-3.5-turbo-1106\",\n",
    "    messages=[\n",
    "        {\"role\": \"system\", \"content\": \"You are a helpful assistant designed to output JSON.\"},\n",
    "        {\"role\": \"user\", \"content\": \"Who won the world series in 2020?\"}\n",
    "    ],\n",
    "    # 对content进行json格式化\n",
    "    response_format=completion_create_params.ResponseFormat(type=\"json_object\")\n",
    ")\n",
    "\n",
    "print(completion.choices[0].message.model_dump_json())"
   ],
   "metadata": {
    "collapsed": false,
    "ExecuteTime": {
     "end_time": "2024-04-15T15:01:57.292405Z",
     "start_time": "2024-04-15T15:01:54.942738Z"
    }
   },
   "id": "9387f85fb440a34c"
  },
  {
   "cell_type": "code",
   "execution_count": 1,
   "id": "516bdf352343e73f",
   "metadata": {
    "ExecuteTime": {
     "end_time": "2023-12-27T13:14:48.519855Z",
     "start_time": "2023-12-27T13:14:48.462304Z"
    },
    "collapsed": false
   },
   "outputs": [
    {
     "name": "stdout",
     "output_type": "stream",
     "text": [
      "{\"content\":\"\",\"function_call\":null,\"role\":\"assistant\",\"tool_calls\":null}\n",
      "{\"content\":\"Hello\",\"function_call\":null,\"role\":null,\"tool_calls\":null}\n",
      "{\"content\":\"!\",\"function_call\":null,\"role\":null,\"tool_calls\":null}\n",
      "{\"content\":\" How\",\"function_call\":null,\"role\":null,\"tool_calls\":null}\n",
      "{\"content\":\" can\",\"function_call\":null,\"role\":null,\"tool_calls\":null}\n",
      "{\"content\":\" I\",\"function_call\":null,\"role\":null,\"tool_calls\":null}\n",
      "{\"content\":\" assist\",\"function_call\":null,\"role\":null,\"tool_calls\":null}\n",
      "{\"content\":\" you\",\"function_call\":null,\"role\":null,\"tool_calls\":null}\n",
      "{\"content\":\" today\",\"function_call\":null,\"role\":null,\"tool_calls\":null}\n",
      "{\"content\":\"?\",\"function_call\":null,\"role\":null,\"tool_calls\":null}\n",
      "{\"content\":null,\"function_call\":null,\"role\":null,\"tool_calls\":null}\n"
     ]
    }
   ],
   "source": [
    "# stream流式输出\n",
    "from openai import OpenAI\n",
    "\n",
    "client = OpenAI()\n",
    "\n",
    "completion = client.chat.completions.create(\n",
    "    model=\"gpt-3.5-turbo-1106\",\n",
    "    messages=[\n",
    "        {\"role\": \"system\", \"content\": \"You are a helpful assistant.\"},\n",
    "        {\"role\": \"user\", \"content\": \"Hello!\"}\n",
    "    ],\n",
    "    stream=True\n",
    ")\n",
    "\n",
    "for chunk in completion:\n",
    "    print(chunk.choices[0].delta.model_dump_json())\n"
   ]
  },
  {
   "cell_type": "code",
   "execution_count": 27,
   "outputs": [
    {
     "name": "stdout",
     "output_type": "stream",
     "text": [
      "[9906]\n",
      "{\"content\":\"Hi there! How can I assist you today?\",\"role\":\"assistant\",\"function_call\":null,\"tool_calls\":null}\n"
     ]
    }
   ],
   "source": [
    "# logit_bias参数\n",
    "from openai import OpenAI\n",
    "import tiktoken\n",
    "\n",
    "enc = tiktoken.get_encoding(\"cl100k_base\")\n",
    "print(enc.encode(\"Hello\"))\n",
    "\n",
    "client = OpenAI()\n",
    "\n",
    "completion = client.chat.completions.create(\n",
    "    model=\"gpt-3.5-turbo-1106\",\n",
    "    messages=[\n",
    "        {\"role\": \"system\", \"content\": \"You are a helpful assistant.\"},\n",
    "        {\"role\": \"user\", \"content\": \"Hello!\"}\n",
    "    ],\n",
    "    logit_bias={enc.encode(\"Hello\")[0]: -100}\n",
    ")\n",
    "\n",
    "print(completion.choices[0].message.model_dump_json())"
   ],
   "metadata": {
    "collapsed": false,
    "ExecuteTime": {
     "end_time": "2023-12-28T15:09:41.212810Z",
     "start_time": "2023-12-28T15:09:38.541734Z"
    }
   },
   "id": "ed7fc0f026699c4f"
  },
  {
   "cell_type": "code",
   "execution_count": 5,
   "id": "4eada43c111acf25",
   "metadata": {
    "collapsed": false,
    "ExecuteTime": {
     "end_time": "2023-12-27T13:26:37.059608Z",
     "start_time": "2023-12-27T13:26:34.817456Z"
    }
   },
   "outputs": [
    {
     "name": "stdout",
     "output_type": "stream",
     "text": [
      "{\"content\":\"Hello! How can I assist you today?\",\"role\":\"assistant\",\"function_call\":null,\"tool_calls\":null}\n",
      "{\"content\":[{\"token\":\"Hello\",\"bytes\":[72,101,108,108,111],\"logprob\":-0.21570958,\"top_logprobs\":[{\"token\":\"Hello\",\"bytes\":[72,101,108,108,111],\"logprob\":-0.21570958},{\"token\":\"Hi\",\"bytes\":[72,105],\"logprob\":-1.6720008}]},{\"token\":\"!\",\"bytes\":[33],\"logprob\":-0.20926832,\"top_logprobs\":[{\"token\":\"!\",\"bytes\":[33],\"logprob\":-0.20926832},{\"token\":\" there\",\"bytes\":[32,116,104,101,114,101],\"logprob\":-1.6910303}]},{\"token\":\" How\",\"bytes\":[32,72,111,119],\"logprob\":-0.00095136015,\"top_logprobs\":[{\"token\":\" How\",\"bytes\":[32,72,111,119],\"logprob\":-0.00095136015},{\"token\":\" Is\",\"bytes\":[32,73,115],\"logprob\":-7.526584}]},{\"token\":\" can\",\"bytes\":[32,99,97,110],\"logprob\":-0.014271167,\"top_logprobs\":[{\"token\":\" can\",\"bytes\":[32,99,97,110],\"logprob\":-0.014271167},{\"token\":\" are\",\"bytes\":[32,97,114,101],\"logprob\":-4.673554}]},{\"token\":\" I\",\"bytes\":[32,73],\"logprob\":-0.00001700133,\"top_logprobs\":[{\"token\":\" I\",\"bytes\":[32,73],\"logprob\":-0.00001700133},{\"token\":\" i\",\"bytes\":[32,105],\"logprob\":-11.576181}]},{\"token\":\" assist\",\"bytes\":[32,97,115,115,105,115,116],\"logprob\":-0.32928452,\"top_logprobs\":[{\"token\":\" assist\",\"bytes\":[32,97,115,115,105,115,116],\"logprob\":-0.32928452},{\"token\":\" help\",\"bytes\":[32,104,101,108,112],\"logprob\":-1.2748374}]},{\"token\":\" you\",\"bytes\":[32,121,111,117],\"logprob\":-0.000036789137,\"top_logprobs\":[{\"token\":\" you\",\"bytes\":[32,121,111,117],\"logprob\":-0.000036789137},{\"token\":\" or\",\"bytes\":[32,111,114],\"logprob\":-10.491168}]},{\"token\":\" today\",\"bytes\":[32,116,111,100,97,121],\"logprob\":-0.0055119265,\"top_logprobs\":[{\"token\":\" today\",\"bytes\":[32,116,111,100,97,121],\"logprob\":-0.0055119265},{\"token\":\"?\",\"bytes\":[63],\"logprob\":-5.204969}]},{\"token\":\"?\",\"bytes\":[63],\"logprob\":-0.00003333223,\"top_logprobs\":[{\"token\":\"?\",\"bytes\":[63],\"logprob\":-0.00003333223},{\"token\":\"?\\n\",\"bytes\":[63,10],\"logprob\":-10.532458}]}]}\n"
     ]
    }
   ],
   "source": [
    "# logprobs参数\n",
    "from openai import OpenAI\n",
    "\n",
    "client = OpenAI()\n",
    "\n",
    "completion = client.chat.completions.create(\n",
    "    model=\"gpt-3.5-turbo-1106\",\n",
    "    messages=[\n",
    "        {\"role\": \"user\", \"content\": \"Hello!\"}\n",
    "    ],\n",
    "    logprobs=True,\n",
    "    top_logprobs=2\n",
    ")\n",
    "\n",
    "print(completion.choices[0].message.model_dump_json())\n",
    "print(completion.choices[0].logprobs.model_dump_json())"
   ]
  },
  {
   "cell_type": "code",
   "execution_count": 17,
   "id": "688798678be4ae7d",
   "metadata": {
    "ExecuteTime": {
     "end_time": "2023-12-26T14:50:24.530133Z",
     "start_time": "2023-12-26T14:50:22.130277Z"
    },
    "collapsed": false
   },
   "outputs": [
    {
     "name": "stdout",
     "output_type": "stream",
     "text": [
      "{\"id\":\"chatcmpl-8a338gVY0y65AzAMrajrFvVHrXPVV\",\"choices\":[{\"finish_reason\":\"tool_calls\",\"index\":0,\"logprobs\":null,\"message\":{\"content\":null,\"role\":\"assistant\",\"function_call\":null,\"tool_calls\":[{\"id\":\"call_yAjy5Ktcqn1unsqt9XgPRWku\",\"function\":{\"arguments\":\"{\\\"location\\\":\\\"Boston, MA\\\",\\\"unit\\\":\\\"celsius\\\"}\",\"name\":\"get_current_weather\"},\"type\":\"function\"}]}}],\"created\":1703602222,\"model\":\"gpt-3.5-turbo-1106\",\"object\":\"chat.completion\",\"system_fingerprint\":\"fp_772e8125bb\",\"usage\":{\"completion_tokens\":22,\"prompt_tokens\":83,\"total_tokens\":105}}\n"
     ]
    }
   ],
   "source": [
    "from openai import OpenAI\n",
    "\n",
    "client = OpenAI()\n",
    "\n",
    "tools = [\n",
    "    {\n",
    "        \"type\": \"function\",\n",
    "        \"function\": {\n",
    "            \"name\": \"get_current_weather\",\n",
    "            \"description\": \"Get the current weather in a given location\",\n",
    "            \"parameters\": {\n",
    "                \"type\": \"object\",\n",
    "                \"properties\": {\n",
    "                    \"location\": {\n",
    "                        \"type\": \"string\",\n",
    "                        \"description\": \"The city and state, e.g. San Francisco, CA\",\n",
    "                    },\n",
    "                    \"unit\": {\"type\": \"string\", \"enum\": [\"celsius\", \"fahrenheit\"]},\n",
    "                },\n",
    "                \"required\": [\"location\"],\n",
    "            },\n",
    "        }\n",
    "    }\n",
    "]\n",
    "messages = [{\"role\": \"user\", \"content\": \"What's the weather like in Boston today?\"}]\n",
    "completion = client.chat.completions.create(\n",
    "    model=\"gpt-3.5-turbo-1106\",\n",
    "    messages=messages,\n",
    "    tools=tools,\n",
    "    tool_choice=\"auto\"\n",
    ")\n",
    "\n",
    "print(completion.model_dump_json())"
   ]
  },
  {
   "cell_type": "code",
   "id": "d427b98061dc80a7",
   "metadata": {
    "collapsed": false,
    "ExecuteTime": {
     "end_time": "2024-07-04T09:59:57.008359Z",
     "start_time": "2024-07-04T09:59:45.614582Z"
    }
   },
   "source": [
    "from openai import OpenAI\n",
    "\n",
    "client = OpenAI()\n",
    "\n",
    "response = client.chat.completions.create(\n",
    "    model=\"gpt-4-vision-preview\",\n",
    "       messages=[\n",
    "        {\n",
    "            \"role\": \"user\",\n",
    "            \"content\": [\n",
    "                {\"type\": \"text\", \"text\": \"What's in this image?\"},\n",
    "                {\n",
    "                    \"type\": \"image_url\",\n",
    "                    \"image_url\": {\n",
    "                        \"url\":\"https://upload.wikimedia.org/wikipedia/commons/thumb/d/dd/Gfp-wisconsin-madison-the-nature-boardwalk.jpg/2560px-Gfp-wisconsin-madison-the-nature-boardwalk.jpg\"\n",
    "                    },\n",
    "                },\n",
    "            ],\n",
    "        }\n",
    "    ],\n",
    "    max_tokens=300,\n",
    ")\n",
    "\n",
    "print(response.choices[0].model_dump_json())\n"
   ],
   "outputs": [
    {
     "name": "stdout",
     "output_type": "stream",
     "text": [
      "{\"finish_reason\": \"stop\", \"index\": 0, \"message\": {\"content\": \"This image features a serene natural landscape with a wooden boardwalk extending through a lush grassy field. The boardwalk leads the viewer's eye towards the horizon under a vibrant blue sky speckled with soft, white clouds. The vegetation on either side of the boardwalk appears healthy and dense, suggesting a well-maintained natural area, possibly a nature reserve or a park. The overall scene evokes a sense of calm and might be an ideal location for walking, meditation, or simply enjoying the outdoors.\", \"role\": \"assistant\", \"function_call\": null, \"tool_calls\": null}, \"logprobs\": null}\n"
     ]
    }
   ],
   "execution_count": 9
  },
  {
   "metadata": {
    "ExecuteTime": {
     "end_time": "2024-07-04T09:59:15.235359Z",
     "start_time": "2024-07-04T09:59:05.826188Z"
    }
   },
   "cell_type": "code",
   "source": [
    "# gpt-4o\n",
    "from openai import OpenAI\n",
    "\n",
    "client = OpenAI()\n",
    "\n",
    "response = client.chat.completions.create(\n",
    "    model=\"gpt-4o\",\n",
    "    messages=[\n",
    "        {\n",
    "            \"role\": \"user\",\n",
    "            \"content\": [\n",
    "                {\"type\": \"text\", \"text\": \"What's in this image?\"},\n",
    "                {\n",
    "                    \"type\": \"image_url\",\n",
    "                    \"image_url\": {\n",
    "                        \"url\":\"https://upload.wikimedia.org/wikipedia/commons/thumb/d/dd/Gfp-wisconsin-madison-the-nature-boardwalk.jpg/2560px-Gfp-wisconsin-madison-the-nature-boardwalk.jpg\"\n",
    "                    },\n",
    "                },\n",
    "            ],\n",
    "        }\n",
    "    ],\n",
    "    max_tokens=300,\n",
    ")\n",
    "\n",
    "print(response.choices[0])\n"
   ],
   "id": "fe375fb6ff02cc68",
   "outputs": [
    {
     "name": "stdout",
     "output_type": "stream",
     "text": [
      "Choice(finish_reason='stop', index=0, message=ChatCompletionMessage(content='The image shows a scenic landscape featuring a narrow wooden boardwalk that extends straight ahead through a vibrant green field. The sky above is bright blue with wispy white clouds scattered throughout. The field is flanked by tall grasses and scattered bushes, with some distant trees visible on the horizon. The overall atmosphere is serene and natural, suggesting a rural or nature reserve setting.', role='assistant', function_call=None, tool_calls=None), logprobs=None)\n"
     ]
    }
   ],
   "execution_count": 8
  }
 ],
 "metadata": {
  "kernelspec": {
   "display_name": "Python 3 (ipykernel)",
   "language": "python",
   "name": "python3"
  },
  "language_info": {
   "codemirror_mode": {
    "name": "ipython",
    "version": 3
   },
   "file_extension": ".py",
   "mimetype": "text/x-python",
   "name": "python",
   "nbconvert_exporter": "python",
   "pygments_lexer": "ipython3",
   "version": "3.11.5"
  }
 },
 "nbformat": 4,
 "nbformat_minor": 5
}
