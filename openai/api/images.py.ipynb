{
 "cells": [
  {
   "cell_type": "code",
   "execution_count": 1,
   "outputs": [],
   "source": [
    "# 初始化环境\n",
    "import os\n",
    "\n",
    "os.environ['OPENAI_BASE_URL'] = 'https://key.wenwen-ai.com/v1'\n",
    "os.environ['OPENAI_API_KEY'] = 'sk-6V2exWFBSa2lmuZ7C0D773D1BaEd4fB7A1B6A0A265D550C6'"
   ],
   "metadata": {
    "collapsed": false,
    "ExecuteTime": {
     "end_time": "2024-01-14T08:30:02.528519Z",
     "start_time": "2024-01-14T08:30:02.525388Z"
    }
   },
   "id": "d693581fed9694c6"
  },
  {
   "cell_type": "code",
   "execution_count": 5,
   "id": "initial_id",
   "metadata": {
    "collapsed": true,
    "ExecuteTime": {
     "end_time": "2024-01-14T08:32:17.785365Z",
     "start_time": "2024-01-14T08:32:07.703871Z"
    }
   },
   "outputs": [
    {
     "name": "stdout",
     "output_type": "stream",
     "text": [
      "{\"created\": 1705221136, \"data\": [{\"b64_json\": null, \"revised_prompt\": null, \"url\": \"https://oaidalleapiprodscus.blob.core.windows.net/private/org-TU9seITCt6DgoRMgGtB6sk3n/user-XpoYsZr2YBgP8KjfDSUgGbg6/img-ib0pgxIUGUPVjFRXUgmsS5W7.png?st=2024-01-14T07%3A32%3A16Z&se=2024-01-14T09%3A32%3A16Z&sp=r&sv=2021-08-06&sr=b&rscd=inline&rsct=image/png&skoid=6aaadede-4fb3-4698-a8f6-684d7786b067&sktid=a48cca56-e6da-484e-a814-9c849652bcb3&skt=2024-01-14T02%3A28%3A08Z&ske=2024-01-15T02%3A28%3A08Z&sks=b&skv=2021-08-06&sig=h9udU6Uy0hmfgI%2B3rGc/%2B3OU7z/3duzLbGtTeR2t7IQ%3D\"}]}\n"
     ]
    }
   ],
   "source": [
    "# 图像生成\n",
    "from openai import OpenAI\n",
    "client = OpenAI()\n",
    "\n",
    "res = client.images.generate(\n",
    "  model=\"dall-e-2\",\n",
    "  prompt=\"Generate a blue sky with white clouds and the word \\\"Hello\\\" in skywriting.\",\n",
    "  n=1,\n",
    "  size=\"1024x1024\"\n",
    ")\n",
    "print(res.model_dump_json())\n"
   ]
  },
  {
   "cell_type": "code",
   "execution_count": 8,
   "outputs": [
    {
     "name": "stderr",
     "output_type": "stream",
     "text": [
      "IOPub data rate exceeded.\n",
      "The Jupyter server will temporarily stop sending output\n",
      "to the client in order to avoid crashing it.\n",
      "To change this limit, set the config variable\n",
      "`--ServerApp.iopub_data_rate_limit`.\n",
      "\n",
      "Current values:\n",
      "ServerApp.iopub_data_rate_limit=1000000.0 (bytes/sec)\n",
      "ServerApp.rate_limit_window=3.0 (secs)\n",
      "\n"
     ]
    }
   ],
   "source": [
    "# from openai import OpenAI\n",
    "client = OpenAI()\n",
    "\n",
    "res = client.images.generate(\n",
    "  model=\"dall-e-2\",\n",
    "  prompt=\"Generate an image of a computer chip, with the phrase 'Hello World' integrated into the circuitry design, symbolizing the intersection of technology and programming.\",\n",
    "  n=1,\n",
    "  size=\"1024x1024\",\n",
    "  response_format=\"b64_json\"\n",
    ")\n",
    "print(res.model_dump_json())"
   ],
   "metadata": {
    "collapsed": false,
    "ExecuteTime": {
     "end_time": "2023-12-30T15:41:49.140706Z",
     "start_time": "2023-12-30T15:41:37.878387Z"
    }
   },
   "id": "d09f38ad8d03b607"
  }
 ],
 "metadata": {
  "kernelspec": {
   "display_name": "Python 3",
   "language": "python",
   "name": "python3"
  },
  "language_info": {
   "codemirror_mode": {
    "name": "ipython",
    "version": 2
   },
   "file_extension": ".py",
   "mimetype": "text/x-python",
   "name": "python",
   "nbconvert_exporter": "python",
   "pygments_lexer": "ipython2",
   "version": "2.7.6"
  }
 },
 "nbformat": 4,
 "nbformat_minor": 5
}
