{
 "cells": [
  {
   "cell_type": "code",
   "execution_count": 6,
   "id": "d693581fed9694c6",
   "metadata": {
    "ExecuteTime": {
     "end_time": "2025-05-07T07:09:33.858571Z",
     "start_time": "2025-05-07T07:09:33.842595Z"
    },
    "collapsed": false
   },
   "outputs": [],
   "source": [
    "# 初始化环境\n",
    "import os\n",
    "\n",
    "os.environ['OPENAI_BASE_URL'] = 'https://key.wenwen-ai.com/v1'\n",
    "os.environ['OPENAI_API_KEY'] = 'sk-6V2exWFBSa2lmuZ7C0D773D1BaEd4fB7A1B6A0A265D550C6'"
   ]
  },
  {
   "cell_type": "code",
   "execution_count": 19,
   "id": "4419b5c71ac56634",
   "metadata": {
    "ExecuteTime": {
     "end_time": "2025-05-20T11:30:21.528742Z",
     "start_time": "2025-05-20T11:28:19.489016Z"
    }
   },
   "outputs": [
    {
     "name": "stdout",
     "output_type": "stream",
     "text": [
      "ImagesResponse(created=1747740518, data=[Image(b64_json=None, revised_prompt=None, url='https://midjourney-plus.oss-us-west-1.aliyuncs.com/sora/57e40695-a85a-48b9-98ae-2e4f6e3f379a.png')], usage=None)\n"
     ]
    }
   ],
   "source": [
    "import os\n",
    "\n",
    "# os.environ['OPENAI_BASE_URL'] = 'https://api.xoneai.xyz/v1'\n",
    "# os.environ['OPENAI_API_KEY'] = 'sk-Vrbdsv2eN53f408465E141EeDd5946BdB47d71D1Aa7c5d16'\n",
    "\n",
    "# os.environ['OPENAI_BASE_URL'] = 'https://x.api96.com/v1'\n",
    "# os.environ['OPENAI_API_KEY'] = 'sk-1b34KUU0uPjxxVa0wtIeLOxz7S5XvUQJpGcDNA5NGNwjD5au'\n",
    "\n",
    "os.environ['OPENAI_BASE_URL'] = 'https://key.wenwen-ai.com/v1'\n",
    "os.environ['OPENAI_API_KEY'] = 'sk-McBPvzRibsVLAZvNsJScrgDLLj58ffFkfkWDJricgdoEqS4k'\n",
    "\n",
    "import base64\n",
    "from openai import OpenAI\n",
    "\n",
    "client = OpenAI()\n",
    "\n",
    "prompt = \"\"\"\n",
    "全景镜头，背景是在一个公园里面，后方是片民房，此时阳光明媚。图中人物顾清寒（男）搂着图中女子张云（女），表情含笑，图中女子张云（女）穿着一件淡蓝色长裙，坐在一张躺椅上。画风是「古风」。宽高比例 「9:16」，分辨率为1125*2000。超清画质，超高细节，五官清晰，眼神明亮，身体比例正常，四肢细节展示正常，画面质量和谐。\n",
    "\"\"\"\n",
    "\n",
    "result = client.images.edit(\n",
    "    model=\"gpt-image-1\",\n",
    "    image=open(\"test.png\", \"rb\"),  # No list here, just the file object\n",
    "    #  image=[\n",
    "    #     open(\"1.jpg\", \"rb\"),\n",
    "    #     open(\"2.jpg\", \"rb\"),\n",
    "    # ],\n",
    "    size=\"1024x1536\",\n",
    "    prompt=prompt,\n",
    "    response_format=\"url\",\n",
    ")\n",
    "print(result)\n",
    "\n"
   ]
  },
  {
   "cell_type": "code",
   "execution_count": 9,
   "id": "initial_id",
   "metadata": {
    "ExecuteTime": {
     "end_time": "2025-05-20T08:18:40.645354Z",
     "start_time": "2025-05-20T08:17:23.387760Z"
    },
    "collapsed": true
   },
   "outputs": [
    {
     "name": "stdout",
     "output_type": "stream",
     "text": [
      "{\"created\": 1747729047, \"data\": [{\"b64_json\": null, \"revised_prompt\": null, \"url\": \"https://sora2.ai-wx.cn/sora/a2147195-ba72-40b4-9003-ad20a9874f22.png\"}], \"usage\": null}\n"
     ]
    }
   ],
   "source": [
    "# 图像生成\n",
    "\n",
    "import os\n",
    "\n",
    "# os.environ['OPENAI_BASE_URL'] = 'https://aigc.api4midjourney.com/api'\n",
    "# os.environ['OPENAI_API_KEY'] = '32911f2d-c92d-40db-8be9-4a214dbbb03a'\n",
    "\n",
    "os.environ['OPENAI_BASE_URL'] = 'https://key.wenwen-ai.com/v1'\n",
    "os.environ['OPENAI_API_KEY'] = 'sk-GYYKJ77h2qJ9YfQV46WAHALlqtz1N17Ma3HpyOw1VHKkb0zW'\n",
    "\n",
    "from openai import OpenAI\n",
    "client = OpenAI()\n",
    "\n",
    "res = client.images.generate(\n",
    "  model=\"gpt-image-1\",\n",
    "  prompt=\"Generate a blue sky with white clouds and the word \\\"Hello\\\" in skywriting.\",\n",
    "  n=1,\n",
    "  size=\"1024x1536\",\n",
    "  output_format=\"png\"\n",
    ")\n",
    "print(res.model_dump_json())\n"
   ]
  },
  {
   "cell_type": "code",
   "execution_count": 8,
   "id": "d09f38ad8d03b607",
   "metadata": {
    "ExecuteTime": {
     "end_time": "2024-07-18T01:06:09.825574Z",
     "start_time": "2024-07-18T01:05:48.609614Z"
    },
    "collapsed": false
   },
   "outputs": [
    {
     "name": "stderr",
     "output_type": "stream",
     "text": [
      "IOPub data rate exceeded.\n",
      "The Jupyter server will temporarily stop sending output\n",
      "to the client in order to avoid crashing it.\n",
      "To change this limit, set the config variable\n",
      "`--ServerApp.iopub_data_rate_limit`.\n",
      "\n",
      "Current values:\n",
      "ServerApp.iopub_data_rate_limit=1000000.0 (bytes/sec)\n",
      "ServerApp.rate_limit_window=3.0 (secs)\n",
      "\n"
     ]
    }
   ],
   "source": [
    "# from openai import OpenAI\n",
    "client = OpenAI()\n",
    "\n",
    "res = client.images.generate(\n",
    "  model=\"dall-e-3\",\n",
    "  prompt=\"Generate an image of a computer chip, with the phrase 'Hello World' integrated into the circuitry design, symbolizing the intersection of technology and programming.\",\n",
    "  n=1,\n",
    "  size=\"1024x1024\",\n",
    "  response_format=\"b64_json\"\n",
    ")\n",
    "print(res.model_dump_json())"
   ]
  }
 ],
 "metadata": {
  "kernelspec": {
   "display_name": "Python 3",
   "language": "python",
   "name": "python3"
  },
  "language_info": {
   "codemirror_mode": {
    "name": "ipython",
    "version": 2
   },
   "file_extension": ".py",
   "mimetype": "text/x-python",
   "name": "python",
   "nbconvert_exporter": "python",
   "pygments_lexer": "ipython2",
   "version": "2.7.6"
  }
 },
 "nbformat": 4,
 "nbformat_minor": 5
}
