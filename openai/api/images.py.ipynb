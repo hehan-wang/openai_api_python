{
 "cells": [
  {
   "cell_type": "code",
   "source": [
    "# 初始化环境\n",
    "import os\n",
    "\n",
    "os.environ['OPENAI_BASE_URL'] = 'https://key.wenwen-ai.com/v1'\n",
    "os.environ['OPENAI_API_KEY'] = 'sk-6V2exWFBSa2lmuZ7C0D773D1BaEd4fB7A1B6A0A265D550C6'"
   ],
   "metadata": {
    "collapsed": false,
    "ExecuteTime": {
     "end_time": "2025-05-07T07:09:33.858571Z",
     "start_time": "2025-05-07T07:09:33.842595Z"
    }
   },
   "id": "d693581fed9694c6",
   "outputs": [],
   "execution_count": 6
  },
  {
   "metadata": {
    "ExecuteTime": {
     "end_time": "2025-05-19T10:56:49.400920Z",
     "start_time": "2025-05-19T10:56:38.353752Z"
    }
   },
   "cell_type": "code",
   "source": [
    "import os\n",
    "\n",
    "# os.environ['OPENAI_BASE_URL'] = 'https://api.xoneai.xyz/v1'\n",
    "# os.environ['OPENAI_API_KEY'] = 'sk-Vrbdsv2eN53f408465E141EeDd5946BdB47d71D1Aa7c5d16'\n",
    "\n",
    "os.environ['OPENAI_BASE_URL'] = 'https://x.api96.com/v1'\n",
    "os.environ['OPENAI_API_KEY'] = 'sk-1b34KUU0uPjxxVa0wtIeLOxz7S5XvUQJpGcDNA5NGNwjD5au'\n",
    "\n",
    "# os.environ['OPENAI_BASE_URL'] = 'https://key.wenwen-ai.com/v1'\n",
    "# os.environ['OPENAI_API_KEY'] = 'sk-McBPvzRibsVLAZvNsJScrgDLLj58ffFkfkWDJricgdoEqS4k'\n",
    "\n",
    "import base64\n",
    "from openai import OpenAI\n",
    "\n",
    "client = OpenAI()\n",
    "\n",
    "prompt = \"\"\"\n",
    "全景镜头，背景是在一个公园里面，后方是片民房，此时阳光明媚。图中人物顾清寒（男）搂着图中女子张云（女），表情含笑，图中女子张云（女）穿着一件淡蓝色长裙，坐在一张躺椅上。画风是「古风」。宽高比例 「9:16」，分辨率为1125*2000。超清画质，超高细节，五官清晰，眼神明亮，身体比例正常，四肢细节展示正常，画面质量和谐。\n",
    "\"\"\"\n",
    "\n",
    "result = client.images.edit(\n",
    "    model=\"gpt-image-1\",\n",
    "    image=open(\"test.png\", \"rb\"),  # No list here, just the file object\n",
    "    #  image=[\n",
    "    #     open(\"1.jpg\", \"rb\"),\n",
    "    #     open(\"2.jpg\", \"rb\"),\n",
    "    # ],\n",
    "    prompt=prompt\n",
    ")\n",
    "print(result)\n",
    "\n"
   ],
   "id": "4419b5c71ac56634",
   "outputs": [
    {
     "ename": "BadRequestError",
     "evalue": "Error code: 400 - {'error': {'message': 'Your request was rejected as a result of our safety system. Your request may contain content that is not allowed by our safety system. (request id: 20250519185643648490578MVbZXA2r) (request id: 20250519185640808681101CqaQiPBv) (request id: 20250519185640776627441MeQTkLQj)', 'type': 'invalid_request_error', 'param': '', 'code': 'moderation_blocked'}}",
     "output_type": "error",
     "traceback": [
      "\u001B[0;31m---------------------------------------------------------------------------\u001B[0m",
      "\u001B[0;31mBadRequestError\u001B[0m                           Traceback (most recent call last)",
      "Cell \u001B[0;32mIn[3], line 21\u001B[0m\n\u001B[1;32m     15\u001B[0m client \u001B[38;5;241m=\u001B[39m OpenAI()\n\u001B[1;32m     17\u001B[0m prompt \u001B[38;5;241m=\u001B[39m \u001B[38;5;124m\"\"\"\u001B[39m\n\u001B[1;32m     18\u001B[0m \u001B[38;5;124m全景镜头，背景是在一个公园里面，后方是片民房，此时阳光明媚。图中人物顾清寒（男）搂着图中女子张云（女），表情含笑，图中女子张云（女）穿着一件淡蓝色长裙，坐在一张躺椅上。画风是「古风」。宽高比例 「9:16」，分辨率为1125*2000。超清画质，超高细节，五官清晰，眼神明亮，身体比例正常，四肢细节展示正常，画面质量和谐。\u001B[39m\n\u001B[1;32m     19\u001B[0m \u001B[38;5;124m\"\"\"\u001B[39m\n\u001B[0;32m---> 21\u001B[0m result \u001B[38;5;241m=\u001B[39m client\u001B[38;5;241m.\u001B[39mimages\u001B[38;5;241m.\u001B[39medit(\n\u001B[1;32m     22\u001B[0m     model\u001B[38;5;241m=\u001B[39m\u001B[38;5;124m\"\u001B[39m\u001B[38;5;124mgpt-image-1\u001B[39m\u001B[38;5;124m\"\u001B[39m,\n\u001B[1;32m     23\u001B[0m     image\u001B[38;5;241m=\u001B[39m\u001B[38;5;28mopen\u001B[39m(\u001B[38;5;124m\"\u001B[39m\u001B[38;5;124mtest.png\u001B[39m\u001B[38;5;124m\"\u001B[39m, \u001B[38;5;124m\"\u001B[39m\u001B[38;5;124mrb\u001B[39m\u001B[38;5;124m\"\u001B[39m),  \u001B[38;5;66;03m# No list here, just the file object\u001B[39;00m\n\u001B[1;32m     24\u001B[0m     \u001B[38;5;66;03m#  image=[\u001B[39;00m\n\u001B[1;32m     25\u001B[0m     \u001B[38;5;66;03m#     open(\"1.jpg\", \"rb\"),\u001B[39;00m\n\u001B[1;32m     26\u001B[0m     \u001B[38;5;66;03m#     open(\"2.jpg\", \"rb\"),\u001B[39;00m\n\u001B[1;32m     27\u001B[0m     \u001B[38;5;66;03m# ],\u001B[39;00m\n\u001B[1;32m     28\u001B[0m     prompt\u001B[38;5;241m=\u001B[39mprompt\n\u001B[1;32m     29\u001B[0m )\n\u001B[1;32m     30\u001B[0m \u001B[38;5;28mprint\u001B[39m(result)\n",
      "File \u001B[0;32m~/anaconda3/envs/openai_api_python/lib/python3.11/site-packages/openai/resources/images.py:218\u001B[0m, in \u001B[0;36mImages.edit\u001B[0;34m(self, image, prompt, background, mask, model, n, quality, response_format, size, user, extra_headers, extra_query, extra_body, timeout)\u001B[0m\n\u001B[1;32m    214\u001B[0m \u001B[38;5;66;03m# It should be noted that the actual Content-Type header that will be\u001B[39;00m\n\u001B[1;32m    215\u001B[0m \u001B[38;5;66;03m# sent to the server will contain a `boundary` parameter, e.g.\u001B[39;00m\n\u001B[1;32m    216\u001B[0m \u001B[38;5;66;03m# multipart/form-data; boundary=---abc--\u001B[39;00m\n\u001B[1;32m    217\u001B[0m extra_headers \u001B[38;5;241m=\u001B[39m {\u001B[38;5;124m\"\u001B[39m\u001B[38;5;124mContent-Type\u001B[39m\u001B[38;5;124m\"\u001B[39m: \u001B[38;5;124m\"\u001B[39m\u001B[38;5;124mmultipart/form-data\u001B[39m\u001B[38;5;124m\"\u001B[39m, \u001B[38;5;241m*\u001B[39m\u001B[38;5;241m*\u001B[39m(extra_headers \u001B[38;5;129;01mor\u001B[39;00m {})}\n\u001B[0;32m--> 218\u001B[0m \u001B[38;5;28;01mreturn\u001B[39;00m \u001B[38;5;28mself\u001B[39m\u001B[38;5;241m.\u001B[39m_post(\n\u001B[1;32m    219\u001B[0m     \u001B[38;5;124m\"\u001B[39m\u001B[38;5;124m/images/edits\u001B[39m\u001B[38;5;124m\"\u001B[39m,\n\u001B[1;32m    220\u001B[0m     body\u001B[38;5;241m=\u001B[39mmaybe_transform(body, image_edit_params\u001B[38;5;241m.\u001B[39mImageEditParams),\n\u001B[1;32m    221\u001B[0m     files\u001B[38;5;241m=\u001B[39mfiles,\n\u001B[1;32m    222\u001B[0m     options\u001B[38;5;241m=\u001B[39mmake_request_options(\n\u001B[1;32m    223\u001B[0m         extra_headers\u001B[38;5;241m=\u001B[39mextra_headers, extra_query\u001B[38;5;241m=\u001B[39mextra_query, extra_body\u001B[38;5;241m=\u001B[39mextra_body, timeout\u001B[38;5;241m=\u001B[39mtimeout\n\u001B[1;32m    224\u001B[0m     ),\n\u001B[1;32m    225\u001B[0m     cast_to\u001B[38;5;241m=\u001B[39mImagesResponse,\n\u001B[1;32m    226\u001B[0m )\n",
      "File \u001B[0;32m~/anaconda3/envs/openai_api_python/lib/python3.11/site-packages/openai/_base_client.py:1239\u001B[0m, in \u001B[0;36mSyncAPIClient.post\u001B[0;34m(self, path, cast_to, body, options, files, stream, stream_cls)\u001B[0m\n\u001B[1;32m   1225\u001B[0m \u001B[38;5;28;01mdef\u001B[39;00m \u001B[38;5;21mpost\u001B[39m(\n\u001B[1;32m   1226\u001B[0m     \u001B[38;5;28mself\u001B[39m,\n\u001B[1;32m   1227\u001B[0m     path: \u001B[38;5;28mstr\u001B[39m,\n\u001B[0;32m   (...)\u001B[0m\n\u001B[1;32m   1234\u001B[0m     stream_cls: \u001B[38;5;28mtype\u001B[39m[_StreamT] \u001B[38;5;241m|\u001B[39m \u001B[38;5;28;01mNone\u001B[39;00m \u001B[38;5;241m=\u001B[39m \u001B[38;5;28;01mNone\u001B[39;00m,\n\u001B[1;32m   1235\u001B[0m ) \u001B[38;5;241m-\u001B[39m\u001B[38;5;241m>\u001B[39m ResponseT \u001B[38;5;241m|\u001B[39m _StreamT:\n\u001B[1;32m   1236\u001B[0m     opts \u001B[38;5;241m=\u001B[39m FinalRequestOptions\u001B[38;5;241m.\u001B[39mconstruct(\n\u001B[1;32m   1237\u001B[0m         method\u001B[38;5;241m=\u001B[39m\u001B[38;5;124m\"\u001B[39m\u001B[38;5;124mpost\u001B[39m\u001B[38;5;124m\"\u001B[39m, url\u001B[38;5;241m=\u001B[39mpath, json_data\u001B[38;5;241m=\u001B[39mbody, files\u001B[38;5;241m=\u001B[39mto_httpx_files(files), \u001B[38;5;241m*\u001B[39m\u001B[38;5;241m*\u001B[39moptions\n\u001B[1;32m   1238\u001B[0m     )\n\u001B[0;32m-> 1239\u001B[0m     \u001B[38;5;28;01mreturn\u001B[39;00m cast(ResponseT, \u001B[38;5;28mself\u001B[39m\u001B[38;5;241m.\u001B[39mrequest(cast_to, opts, stream\u001B[38;5;241m=\u001B[39mstream, stream_cls\u001B[38;5;241m=\u001B[39mstream_cls))\n",
      "File \u001B[0;32m~/anaconda3/envs/openai_api_python/lib/python3.11/site-packages/openai/_base_client.py:1034\u001B[0m, in \u001B[0;36mSyncAPIClient.request\u001B[0;34m(self, cast_to, options, stream, stream_cls)\u001B[0m\n\u001B[1;32m   1031\u001B[0m             err\u001B[38;5;241m.\u001B[39mresponse\u001B[38;5;241m.\u001B[39mread()\n\u001B[1;32m   1033\u001B[0m         log\u001B[38;5;241m.\u001B[39mdebug(\u001B[38;5;124m\"\u001B[39m\u001B[38;5;124mRe-raising status error\u001B[39m\u001B[38;5;124m\"\u001B[39m)\n\u001B[0;32m-> 1034\u001B[0m         \u001B[38;5;28;01mraise\u001B[39;00m \u001B[38;5;28mself\u001B[39m\u001B[38;5;241m.\u001B[39m_make_status_error_from_response(err\u001B[38;5;241m.\u001B[39mresponse) \u001B[38;5;28;01mfrom\u001B[39;00m \u001B[38;5;28;01mNone\u001B[39;00m\n\u001B[1;32m   1036\u001B[0m     \u001B[38;5;28;01mbreak\u001B[39;00m\n\u001B[1;32m   1038\u001B[0m \u001B[38;5;28;01massert\u001B[39;00m response \u001B[38;5;129;01mis\u001B[39;00m \u001B[38;5;129;01mnot\u001B[39;00m \u001B[38;5;28;01mNone\u001B[39;00m, \u001B[38;5;124m\"\u001B[39m\u001B[38;5;124mcould not resolve response (should never happen)\u001B[39m\u001B[38;5;124m\"\u001B[39m\n",
      "\u001B[0;31mBadRequestError\u001B[0m: Error code: 400 - {'error': {'message': 'Your request was rejected as a result of our safety system. Your request may contain content that is not allowed by our safety system. (request id: 20250519185643648490578MVbZXA2r) (request id: 20250519185640808681101CqaQiPBv) (request id: 20250519185640776627441MeQTkLQj)', 'type': 'invalid_request_error', 'param': '', 'code': 'moderation_blocked'}}"
     ]
    }
   ],
   "execution_count": 3
  },
  {
   "cell_type": "code",
   "id": "initial_id",
   "metadata": {
    "collapsed": true,
    "ExecuteTime": {
     "end_time": "2025-05-09T06:56:41.333963Z",
     "start_time": "2025-05-09T06:55:52.929247Z"
    }
   },
   "source": [
    "# 图像生成\n",
    "from openai import OpenAI\n",
    "client = OpenAI()\n",
    "\n",
    "res = client.images.generate(\n",
    "  model=\"gpt-image-1\",\n",
    "  prompt=\"Generate a blue sky with white clouds and the word \\\"Hello\\\" in skywriting.\",\n",
    "  n=1,\n",
    "  size=\"1024x1024\"\n",
    ")\n",
    "print(res.model_dump_json())\n"
   ],
   "outputs": [
    {
     "name": "stdout",
     "output_type": "stream",
     "text": [
      "{\"created\": 1746773801, \"data\": [{\"b64_json\": null, \"revised_prompt\": null, \"url\": \"https://midjourney-plus.oss-us-west-1.aliyuncs.com/sora/99eed396-6a94-4f37-acff-3b44e52c984a.png\"}]}\n"
     ]
    }
   ],
   "execution_count": 30
  },
  {
   "cell_type": "code",
   "source": [
    "# from openai import OpenAI\n",
    "client = OpenAI()\n",
    "\n",
    "res = client.images.generate(\n",
    "  model=\"dall-e-3\",\n",
    "  prompt=\"Generate an image of a computer chip, with the phrase 'Hello World' integrated into the circuitry design, symbolizing the intersection of technology and programming.\",\n",
    "  n=1,\n",
    "  size=\"1024x1024\",\n",
    "  response_format=\"b64_json\"\n",
    ")\n",
    "print(res.model_dump_json())"
   ],
   "metadata": {
    "collapsed": false,
    "ExecuteTime": {
     "end_time": "2024-07-18T01:06:09.825574Z",
     "start_time": "2024-07-18T01:05:48.609614Z"
    }
   },
   "id": "d09f38ad8d03b607",
   "outputs": [
    {
     "name": "stderr",
     "output_type": "stream",
     "text": [
      "IOPub data rate exceeded.\n",
      "The Jupyter server will temporarily stop sending output\n",
      "to the client in order to avoid crashing it.\n",
      "To change this limit, set the config variable\n",
      "`--ServerApp.iopub_data_rate_limit`.\n",
      "\n",
      "Current values:\n",
      "ServerApp.iopub_data_rate_limit=1000000.0 (bytes/sec)\n",
      "ServerApp.rate_limit_window=3.0 (secs)\n",
      "\n"
     ]
    }
   ],
   "execution_count": 8
  }
 ],
 "metadata": {
  "kernelspec": {
   "display_name": "Python 3",
   "language": "python",
   "name": "python3"
  },
  "language_info": {
   "codemirror_mode": {
    "name": "ipython",
    "version": 2
   },
   "file_extension": ".py",
   "mimetype": "text/x-python",
   "name": "python",
   "nbconvert_exporter": "python",
   "pygments_lexer": "ipython2",
   "version": "2.7.6"
  }
 },
 "nbformat": 4,
 "nbformat_minor": 5
}
