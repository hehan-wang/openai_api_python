{
 "cells": [
  {
   "cell_type": "code",
   "id": "d693581fed9694c6",
   "metadata": {
    "collapsed": false,
    "ExecuteTime": {
     "end_time": "2025-05-22T02:03:41.289217Z",
     "start_time": "2025-05-22T02:03:41.286405Z"
    }
   },
   "source": [
    "# 初始化环境\n",
    "import os\n",
    "\n",
    "os.environ['OPENAI_BASE_URL'] = 'https://key.wenwen-ai.com/v1'\n",
    "os.environ['OPENAI_API_KEY'] = 'sk-6V2exWFBSa2lmuZ7C0D773D1BaEd4fB7A1B6A0A265D550C6'"
   ],
   "outputs": [],
   "execution_count": 23
  },
  {
   "cell_type": "code",
   "id": "4419b5c71ac56634",
   "metadata": {
    "ExecuteTime": {
     "end_time": "2025-06-26T02:14:16.976693Z",
     "start_time": "2025-06-26T02:12:51.794118Z"
    }
   },
   "source": [
    "import os\n",
    "\n",
    "# os.environ['OPENAI_BASE_URL'] = 'https://api.xoneai.xyz/v1'\n",
    "# os.environ['OPENAI_API_KEY'] = 'sk-Vrbdsv2eN53f408465E141EeDd5946BdB47d71D1Aa7c5d16'\n",
    "\n",
    "# os.environ['OPENAI_BASE_URL'] = 'https://x.api96.com/v1'\n",
    "# os.environ['OPENAI_API_KEY'] = 'sk-1b34KUU0uPjxxVa0wtIeLOxz7S5XvUQJpGcDNA5NGNwjD5au'\n",
    "\n",
    "# os.environ['OPENAI_BASE_URL'] = 'https://key.wenwen-ai.com/v1'\n",
    "# os.environ['OPENAI_API_KEY'] = 'sk-McBPvzRibsVLAZvNsJScrgDLLj58ffFkfkWDJricgdoEqS4k'\n",
    "\n",
    "# os.environ['OPENAI_BASE_URL'] = 'https://nekoapi.com/v1'\n",
    "# os.environ['OPENAI_API_KEY'] = 'sk-UHeYXL2xUGFcHN8Ma1uIQkilEjwP1MzkekywSKhnpv0hKOGj'\n",
    "\n",
    "os.environ['OPENAI_BASE_URL'] = 'http://18.140.53.216:2222/v1'\n",
    "os.environ['OPENAI_API_KEY'] = 'sk-hPJY4FyHIZ8IjQdV9UW1kOfFkClPhnZIjLbSmiqMlXAh408u'\n",
    "\n",
    "import base64\n",
    "from openai import OpenAI\n",
    "\n",
    "client = OpenAI()\n",
    "\n",
    "prompt = \"\"\"\n",
    "全景镜头，背景是在一个公园里面，后方是片民房，此时阳光明媚。图中人物顾清寒（男）搂着图中女子张云（女），表情含笑，图中女子张云（女）穿着一件淡蓝色长裙，坐在一张躺椅上。画风是「古风」。宽高比例 「9:16」，分辨率为1125*2000。超清画质，超高细节，五官清晰，眼神明亮，身体比例正常，四肢细节展示正常，画面质量和谐。\n",
    "\"\"\"\n",
    "\n",
    "result = client.images.edit(\n",
    "    model=\"gpt-image-1\",\n",
    "    image=open(\"test.png\", \"rb\"),  # No list here, just the file object\n",
    "    #  image=[\n",
    "    #     open(\"1.jpg\", \"rb\"),\n",
    "    #     open(\"2.jpg\", \"rb\"),\n",
    "    # ],\n",
    "    size=\"1024x1536\",\n",
    "    prompt=prompt,\n",
    "    # response_format=\"url\",\n",
    ")\n",
    "print(result)\n",
    "\n"
   ],
   "outputs": [
    {
     "name": "stderr",
     "output_type": "stream",
     "text": [
      "IOPub data rate exceeded.\n",
      "The Jupyter server will temporarily stop sending output\n",
      "to the client in order to avoid crashing it.\n",
      "To change this limit, set the config variable\n",
      "`--ServerApp.iopub_data_rate_limit`.\n",
      "\n",
      "Current values:\n",
      "ServerApp.iopub_data_rate_limit=1000000.0 (bytes/sec)\n",
      "ServerApp.rate_limit_window=3.0 (secs)\n",
      "\n"
     ]
    }
   ],
   "execution_count": 1
  },
  {
   "cell_type": "code",
   "id": "initial_id",
   "metadata": {
    "collapsed": true,
    "ExecuteTime": {
     "end_time": "2025-07-18T02:02:28.394840Z",
     "start_time": "2025-07-18T02:02:25.162361Z"
    }
   },
   "source": [
    "# 图像生成\n",
    "\n",
    "import os\n",
    "\n",
    "# os.environ['OPENAI_BASE_URL'] = 'https://aigc.api4midjourney.com/api'\n",
    "# os.environ['OPENAI_API_KEY'] = '32911f2d-c92d-40db-8be9-4a214dbbb03a'\n",
    "\n",
    "# os.environ['OPENAI_BASE_URL'] = 'https://key.wenwen-ai.com/v1'\n",
    "# os.environ['OPENAI_API_KEY'] = 'sk-GYYKJ77h2qJ9YfQV46WAHALlqtz1N17Ma3HpyOw1VHKkb0zW'\n",
    "\n",
    "os.environ['OPENAI_BASE_URL'] = 'https://api.bltcy.ai/kling/v1'\n",
    "os.environ['OPENAI_API_KEY'] = 'sk-RC2GoclGIAs7309WB76bAd7e0e24407d8a9cA7C837Ab3b38'\n",
    "\n",
    "from openai import OpenAI\n",
    "client = OpenAI()\n",
    "\n",
    "res = client.images.generate(\n",
    "  # model=\"gpt-image-1\",\n",
    "  model=\"kling-image\",\n",
    "  prompt=\"Generate a blue sky with white clouds and the word \\\"Hello\\\" in skywriting.\",\n",
    "  n=1,\n",
    "  size=\"1024x1536\",\n",
    "  output_format=\"png\"\n",
    ")\n",
    "print(res.model_dump_json())\n"
   ],
   "outputs": [
    {
     "name": "stdout",
     "output_type": "stream",
     "text": [
      "{\"created\": null, \"data\": {\"task_id\": \"775005154625732644\", \"task_status\": \"submitted\", \"created_at\": 1752804146544, \"updated_at\": 1752804146544}, \"usage\": null, \"code\": 0, \"message\": \"SUCCEED\", \"request_id\": \"55b9584b-2802-4823-a864-0c3e85bf08fb\"}\n"
     ]
    }
   ],
   "execution_count": 2
  },
  {
   "cell_type": "code",
   "id": "d09f38ad8d03b607",
   "metadata": {
    "collapsed": false,
    "ExecuteTime": {
     "end_time": "2025-06-26T02:01:40.708225Z",
     "start_time": "2025-06-26T02:01:22.121959Z"
    }
   },
   "source": [
    "# from openai import OpenAI\n",
    "client = OpenAI()\n",
    "\n",
    "os.environ['OPENAI_BASE_URL'] = 'https://api.nekoapi.com/v1'\n",
    "os.environ['OPENAI_API_KEY'] = 'sk-WtCTWppdPy8PeTFT0dC58dD704Bb4eCeB0FcE125Ba6c7eA9'\n",
    "\n",
    "\n",
    "res = client.images.generate(\n",
    "  model=\"dall-e-3\",\n",
    "  prompt=\"Generate an image of a computer chip, with the phrase 'Hello World' integrated into the circuitry design, symbolizing the intersection of technology and programming.\",\n",
    "  n=1,\n",
    "  size=\"1024x1024\",\n",
    "  response_format=\"b64_json\"\n",
    ")\n",
    "print(res.model_dump_json())"
   ],
   "outputs": [
    {
     "name": "stderr",
     "output_type": "stream",
     "text": [
      "IOPub data rate exceeded.\n",
      "The Jupyter server will temporarily stop sending output\n",
      "to the client in order to avoid crashing it.\n",
      "To change this limit, set the config variable\n",
      "`--ServerApp.iopub_data_rate_limit`.\n",
      "\n",
      "Current values:\n",
      "ServerApp.iopub_data_rate_limit=1000000.0 (bytes/sec)\n",
      "ServerApp.rate_limit_window=3.0 (secs)\n",
      "\n"
     ]
    }
   ],
   "execution_count": 3
  }
 ],
 "metadata": {
  "kernelspec": {
   "display_name": "Python 3",
   "language": "python",
   "name": "python3"
  },
  "language_info": {
   "codemirror_mode": {
    "name": "ipython",
    "version": 2
   },
   "file_extension": ".py",
   "mimetype": "text/x-python",
   "name": "python",
   "nbconvert_exporter": "python",
   "pygments_lexer": "ipython2",
   "version": "2.7.6"
  }
 },
 "nbformat": 4,
 "nbformat_minor": 5
}
