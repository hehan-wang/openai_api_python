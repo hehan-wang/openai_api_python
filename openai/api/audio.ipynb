{
 "cells": [
  {
   "cell_type": "code",
   "id": "initial_id",
   "metadata": {
    "collapsed": true,
    "ExecuteTime": {
     "end_time": "2024-07-19T07:37:48.947360Z",
     "start_time": "2024-07-19T07:37:48.943779Z"
    }
   },
   "source": [
    "# 初始化环境\n",
    "import os\n",
    "\n",
    "# os.environ['OPENAI_BASE_URL'] = 'https://key.wenwen-ai.com/v1'\n",
    "# os.environ['OPENAI_API_KEY'] = 'sk-6V2exWFBSa2lmuZ7C0D773D1BaEd4fB7A1B6A0A265D550C6'\n",
    "os.environ['OPENAI_BASE_URL'] = 'https://yesai.one/v1'\n",
    "os.environ['OPENAI_API_KEY'] = 'sk-YhJFVLsz4fTMJGhz43269bD65a19450fB87fB39bE3DdAd7d'"
   ],
   "outputs": [],
   "execution_count": 13
  },
  {
   "cell_type": "code",
   "source": [
    "# 语音转文字\n",
    "from openai import OpenAI\n",
    "\n",
    "client = OpenAI()\n",
    "\n",
    "audio_file = open(\"input.m4a\", \"rb\")\n",
    "transcript = client.audio.transcriptions.create(\n",
    "    model=\"whisper-1\",\n",
    "    file=audio_file,\n",
    "    response_format=\"text\",\n",
    "    language=\"zh\",\n",
    "    temperature=0,\n",
    "    # prompt=\"\",\n",
    ")\n",
    "print(transcript)"
   ],
   "metadata": {
    "collapsed": false,
    "ExecuteTime": {
     "end_time": "2024-07-19T07:37:53.706650Z",
     "start_time": "2024-07-19T07:37:50.209781Z"
    }
   },
   "id": "ebe75f707988b07",
   "outputs": [
    {
     "name": "stdout",
     "output_type": "stream",
     "text": [
      "你好,今天天气怎么样?\n",
      "\n"
     ]
    }
   ],
   "execution_count": 14
  },
  {
   "cell_type": "code",
   "execution_count": 3,
   "outputs": [],
   "source": [
    "# 文字转语音\n",
    "from openai import OpenAI\n",
    "client = OpenAI()\n",
    "\n",
    "speech_file_path = \"output.mp3\"\n",
    "response = client.audio.speech.create(\n",
    "    model=\"tts-1\",\n",
    "    voice=\"alloy\",\n",
    "    input=\"你好,今天天气怎么样?\",\n",
    "    response_format=\"mp3\",\n",
    "    speed=1,\n",
    ")\n",
    "response.stream_to_file(speech_file_path)"
   ],
   "metadata": {
    "collapsed": false,
    "ExecuteTime": {
     "end_time": "2024-04-15T15:44:56.484977Z",
     "start_time": "2024-04-15T15:44:50.260583Z"
    }
   },
   "id": "e292f38607436aab"
  },
  {
   "cell_type": "code",
   "execution_count": 14,
   "outputs": [
    {
     "name": "stdout",
     "output_type": "stream",
     "text": [
      "Translation(text='你好,今天天气怎么样?')\n"
     ]
    }
   ],
   "source": [
    "# 音频翻译成英文\n",
    "from openai import OpenAI\n",
    "client = OpenAI()\n",
    "\n",
    "audio_file = open(\"input.m4a\", \"rb\")\n",
    "translate = client.audio.translations.create(\n",
    "  model=\"whisper-1\",\n",
    "  file=audio_file\n",
    ")\n",
    "print(translate)"
   ],
   "metadata": {
    "collapsed": false,
    "ExecuteTime": {
     "end_time": "2024-04-15T15:59:49.578311Z",
     "start_time": "2024-04-15T15:59:46.811216Z"
    }
   },
   "id": "f0143ca79adfedbb"
  }
 ],
 "metadata": {
  "kernelspec": {
   "display_name": "Python 3",
   "language": "python",
   "name": "python3"
  },
  "language_info": {
   "codemirror_mode": {
    "name": "ipython",
    "version": 2
   },
   "file_extension": ".py",
   "mimetype": "text/x-python",
   "name": "python",
   "nbconvert_exporter": "python",
   "pygments_lexer": "ipython2",
   "version": "2.7.6"
  }
 },
 "nbformat": 4,
 "nbformat_minor": 5
}
