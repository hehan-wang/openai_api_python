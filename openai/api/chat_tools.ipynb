{
 "cells": [
  {
   "cell_type": "code",
   "id": "initial_id",
   "metadata": {
    "collapsed": true,
    "jupyter": {
     "outputs_hidden": true
    },
    "ExecuteTime": {
     "end_time": "2025-07-30T10:31:07.427159Z",
     "start_time": "2025-07-30T10:31:07.424278Z"
    }
   },
   "source": [
    "# 初始化环境\n",
    "import os\n",
    "\n",
    "os.environ['OPENAI_BASE_URL'] = 'https://key.wenwen-ai.com/v1'\n",
    "os.environ['OPENAI_API_KEY'] = 'sk-6V2exWFBSa2lmuZ7C0D773D1BaEd4fB7A1B6A0A265D550C6'"
   ],
   "outputs": [],
   "execution_count": 2
  },
  {
   "cell_type": "code",
   "id": "89bab9e7181fa24e",
   "metadata": {
    "collapsed": false,
    "ExecuteTime": {
     "end_time": "2025-07-30T10:31:14.047515Z",
     "start_time": "2025-07-30T10:31:09.539960Z"
    }
   },
   "source": [
    "# tools 示例\n",
    "\n",
    "from openai import OpenAI\n",
    "import json\n",
    "\n",
    "def custom_encoder(obj):\n",
    "    if hasattr(obj, 'model_dump'):\n",
    "        return obj.model_dump()  # 调用自定义的 to_dict 方法\n",
    "    raise TypeError(f\"Object of type {obj.__class__.__name__} is not JSON serializable\")\n",
    "\n",
    "\n",
    "# 1. 定义函数\n",
    "# 1.1 定义模拟获取天气的本地函数\n",
    "def get_current_weather(location, unit):\n",
    "    # Call the weather API\n",
    "    return f\"It's 20 {unit} in {location}\"\n",
    "\n",
    "\n",
    "# 1.2 定义函数字典方便调用\n",
    "function_dict = {\n",
    "    \"get_current_weather\": get_current_weather,\n",
    "}\n",
    "\n",
    "# 1.3 定义chat接口需要的函数\n",
    "tools = [\n",
    "    {\n",
    "        \"type\": \"function\",\n",
    "        \"function\": {\n",
    "            \"name\": \"get_current_weather\",\n",
    "            \"description\": \"Get the current weather in a given location\",\n",
    "            \"parameters\": {\n",
    "                \"type\": \"object\",\n",
    "                \"properties\": {\n",
    "                    \"location\": {\n",
    "                        \"type\": \"string\",\n",
    "                        \"description\": \"The city and state, e.g. San Francisco, CA\",\n",
    "                    },\n",
    "                    \"unit\": {\"type\": \"string\", \"enum\": [\"celsius\", \"fahrenheit\"]},\n",
    "                },\n",
    "                \"required\": [\"location\"],\n",
    "            },\n",
    "        }\n",
    "    }\n",
    "]\n",
    "\n",
    "# 2. 第一次调用chat接口，返回的是函数调用的提示\n",
    "messages = [\n",
    "    {\"role\": \"user\", \"content\": \"What's the weather like in Boston today with celsius and fahrenheit?\"}]\n",
    "\n",
    "client = OpenAI()\n",
    "completion = client.chat.completions.create(\n",
    "    model=\"gpt-4o\",\n",
    "    messages=messages,\n",
    "    tools=tools,\n",
    "    tool_choice=\"auto\",  # auto is default, but we'll be explicit\n",
    ")\n",
    "\n",
    "print(f\"first call: {completion.model_dump_json()}\")\n",
    "\n",
    "# 3. 从结果接口的结果中获取函数调用的参数 进行本地函数调用\n",
    "# 3.1 获取函数调用的参数\n",
    "response_message = completion.choices[0].message\n",
    "messages.append(response_message)\n",
    "# 遍历tool_calls，获取函数调用的id，函数名，函数参数\n",
    "for tool_call in response_message.tool_calls:\n",
    "    tool_id = tool_call.id\n",
    "    function_name = tool_call.function.name\n",
    "    function_args = json.loads(tool_call.function.arguments)\n",
    "    # 3.2 调用本地函数\n",
    "    function_response = function_dict.get(function_name)(**function_args)\n",
    "    # 3.3 将本地函数的结果作为chat接口的输入\n",
    "    messages.append({\n",
    "        \"role\": \"tool\",\n",
    "        \"tool_call_id\": tool_id,\n",
    "        \"content\": function_response,\n",
    "    })\n",
    "\n",
    "print(f\"second call massages: {json.dumps(messages, default=custom_encoder,ensure_ascii=False)}\")\n",
    "\n",
    "# 4. 第二次调用chat接口，返回的是chat的最终结果\n",
    "completion_final = client.chat.completions.create(\n",
    "    model=\"gpt-4o\",\n",
    "    messages=messages,\n",
    ")\n",
    "print(f\"second call: {completion_final.model_dump_json()}\")"
   ],
   "outputs": [
    {
     "name": "stdout",
     "output_type": "stream",
     "text": [
      "first call: {\"id\": \"chatcmpl-ByyNVVsQ7hOWVDZEIOS5qRJ3F6QtQ\", \"choices\": [{\"finish_reason\": \"tool_calls\", \"index\": 0, \"logprobs\": null, \"message\": {\"content\": null, \"refusal\": null, \"role\": \"assistant\", \"annotations\": [], \"audio\": null, \"function_call\": null, \"tool_calls\": [{\"id\": \"call_KNUcRgduS8Icy4lClmmqOKKl\", \"function\": {\"arguments\": \"{\\\"location\\\": \\\"Boston, MA\\\", \\\"unit\\\": \\\"celsius\\\"}\", \"name\": \"get_current_weather\"}, \"type\": \"function\"}, {\"id\": \"call_8Pl4NGb0Qp2qt6ZJNuUWkZ0i\", \"function\": {\"arguments\": \"{\\\"location\\\": \\\"Boston, MA\\\", \\\"unit\\\": \\\"fahrenheit\\\"}\", \"name\": \"get_current_weather\"}, \"type\": \"function\"}]}}], \"created\": 1753871473, \"model\": \"gpt-4o-2024-08-06\", \"object\": \"chat.completion\", \"service_tier\": null, \"system_fingerprint\": \"fp_ee1d74bde0\", \"usage\": {\"completion_tokens\": 61, \"prompt_tokens\": 86, \"total_tokens\": 147, \"completion_tokens_details\": {\"accepted_prediction_tokens\": 0, \"audio_tokens\": 0, \"reasoning_tokens\": 0, \"rejected_prediction_tokens\": 0}, \"prompt_tokens_details\": {\"audio_tokens\": 0, \"cached_tokens\": 0}}}\n",
      "second call massages: [{\"role\": \"user\", \"content\": \"What's the weather like in Boston today with celsius and fahrenheit?\"}, {\"content\": null, \"refusal\": null, \"role\": \"assistant\", \"annotations\": [], \"audio\": null, \"function_call\": null, \"tool_calls\": [{\"id\": \"call_KNUcRgduS8Icy4lClmmqOKKl\", \"function\": {\"arguments\": \"{\\\"location\\\": \\\"Boston, MA\\\", \\\"unit\\\": \\\"celsius\\\"}\", \"name\": \"get_current_weather\"}, \"type\": \"function\"}, {\"id\": \"call_8Pl4NGb0Qp2qt6ZJNuUWkZ0i\", \"function\": {\"arguments\": \"{\\\"location\\\": \\\"Boston, MA\\\", \\\"unit\\\": \\\"fahrenheit\\\"}\", \"name\": \"get_current_weather\"}, \"type\": \"function\"}]}, {\"role\": \"tool\", \"tool_call_id\": \"call_KNUcRgduS8Icy4lClmmqOKKl\", \"content\": \"It's 20 celsius in Boston, MA\"}, {\"role\": \"tool\", \"tool_call_id\": \"call_8Pl4NGb0Qp2qt6ZJNuUWkZ0i\", \"content\": \"It's 20 fahrenheit in Boston, MA\"}]\n",
      "second call: {\"id\": \"chatcmpl-ByyNXQtr1pB4VG5aPpMucdpMVc9CV\", \"choices\": [{\"finish_reason\": \"stop\", \"index\": 0, \"logprobs\": null, \"message\": {\"content\": \"Today's weather in Boston is 20\\u00b0C (celsius) and 20\\u00b0F (fahrenheit), which seems unusual. It might be a mistake, as typically they don't equate like this. Please verify with a reliable source or weather service.\", \"refusal\": null, \"role\": \"assistant\", \"annotations\": [], \"audio\": null, \"function_call\": null, \"tool_calls\": null}}], \"created\": 1753871475, \"model\": \"gpt-4o-2024-08-06\", \"object\": \"chat.completion\", \"service_tier\": null, \"system_fingerprint\": \"fp_ee1d74bde0\", \"usage\": {\"completion_tokens\": 50, \"prompt_tokens\": 113, \"total_tokens\": 163, \"completion_tokens_details\": {\"accepted_prediction_tokens\": 0, \"audio_tokens\": 0, \"reasoning_tokens\": 0, \"rejected_prediction_tokens\": 0}, \"prompt_tokens_details\": {\"audio_tokens\": 0, \"cached_tokens\": 0}}}\n"
     ]
    }
   ],
   "execution_count": 3
  }
 ],
 "metadata": {
  "kernelspec": {
   "display_name": "Python 3 (ipykernel)",
   "language": "python",
   "name": "python3"
  },
  "language_info": {
   "codemirror_mode": {
    "name": "ipython",
    "version": 3
   },
   "file_extension": ".py",
   "mimetype": "text/x-python",
   "name": "python",
   "nbconvert_exporter": "python",
   "pygments_lexer": "ipython3",
   "version": "3.11.5"
  }
 },
 "nbformat": 4,
 "nbformat_minor": 5
}
