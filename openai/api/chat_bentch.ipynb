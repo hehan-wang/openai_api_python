{
 "cells": [
  {
   "cell_type": "code",
   "execution_count": null,
   "metadata": {
    "ExecuteTime": {
     "start_time": "2025-05-19T15:15:10.937063Z"
    },
    "jupyter": {
     "is_executing": true
    },
    "vscode": {
     "languageId": "plaintext"
    }
   },
   "outputs": [],
   "source": [
    "# 初始化环境\n",
    "import os\n",
    "from openai import OpenAI\n",
    "\n",
    "os.environ['OPENAI_BASE_URL'] = 'https://key.wenwen-ai.com/v1'\n",
    "os.environ['OPENAI_API_KEY'] = 'sk-GYYKJ77h2qJ9YfQV46WAHALlqtz1N17Ma3HpyOw1VHKkb0zW'\n",
    "\n",
    "\n",
    "client = OpenAI()\n",
    "\n",
    "completion = client.chat.completions.create(\n",
    "    model=\"gpt-4o-image\",\n",
    "    messages=[\n",
    "        {\"role\": \"system\", \"content\": \"You are a helpful assistant.\"},\n",
    "        {\"role\": \"user\", \"content\":\"[全景]镜头，背景是在一个路边内，周边环境是道路旁有路灯，周围较安静。图片参考人物（虚拟角色）牵着一个[青年，女性]（主控角色）的手，表情为满眼爱意。[青年，女性]（主控角色） 穿着蓝色短裙，站在参考图角色前面，背对着镜头微微低头。  生成画风参考入参中的画风，虚拟角色需保持人物形象特征。 超清画质，超高细节，五官清晰，眼神明亮，身体比例正常，画面质量和谐。图片宽高比例【2:3】\"}\n",
    "    ],\n",
    "    n=1,\n",
    "    max_tokens=2048,\n",
    "    temperature=0.8,\n",
    "    # top_p=1,\n",
    "    # stop=\"!\",\n",
    "    # seed=1234567,\n",
    "    # user=\"user_1234567\",\n",
    ")\n",
    "\n",
    "print(completion.model_dump_json())\n"
   ]
  },
  {
   "cell_type": "code",
   "metadata": {
    "vscode": {
     "languageId": "plaintext"
    },
    "ExecuteTime": {
     "end_time": "2025-05-19T15:23:43.087831Z",
     "start_time": "2025-05-19T15:20:55.618567Z"
    }
   },
   "source": [
    "import json\n",
    "import time\n",
    "import requests\n",
    "from PIL import Image\n",
    "from io import BytesIO\n",
    "from collections import Counter\n",
    "from openai import OpenAI\n",
    "\n",
    "def get_image_ratio(image_url):\n",
    "    try:\n",
    "        response = requests.get(image_url)\n",
    "        img = Image.open(BytesIO(response.content))\n",
    "        width, height = img.size\n",
    "        ratio = width / height\n",
    "        return round(ratio, 2)\n",
    "    except Exception as e:\n",
    "        print(f'Error processing image: {e}')\n",
    "        return None\n",
    "\n",
    "client = OpenAI()\n",
    "ratios = []\n",
    "N = 2\n",
    "for i in range(N):\n",
    "    try:\n",
    "        print(f'Processing iteration {i+1}/{N}...')\n",
    "        completion = client.chat.completions.create(\n",
    "            model=\"gpt-4o-image\",\n",
    "            messages=[\n",
    "                {\"role\": \"system\", \"content\": \"You are a helpful assistant.\"},\n",
    "                {\"role\": \"user\", \"content\": \"[全景]镜头，背景是在一个路边内，周边环境是道路旁有路灯，周围较安静。图片参考人物（虚拟角色）牵着一个[青年，女性]（主控角色）的手，表情为满眼爱意。[青年，女性]（主控角色） 穿着蓝色短裙，站在参考图角色前面，背对着镜头微微低头。  生成画风参考入参中的画风，虚拟角色需保持人物形象特征。 超清画质，超高细节，五官清晰，眼神明亮，身体比例正常，画面质量和谐。图片宽高比例【2:3】\"}\n",
    "            ],\n",
    "            n=1,\n",
    "            max_tokens=2048,\n",
    "            temperature=0.8,\n",
    "        )\n",
    "        response_data = json.loads(completion.model_dump_json())\n",
    "        image_url = response_data['choices'][0]['message']['content'].split('(')[1].split(')')[0]\n",
    "        ratio = get_image_ratio(image_url)\n",
    "        if ratio:\n",
    "            ratios.append(ratio)\n",
    "        time.sleep(1)\n",
    "    except Exception as e:\n",
    "        print(f'Error in iteration {i+1}: {e}')\n",
    "        continue\n",
    "\n",
    "print(\"\\n=== 分析结果 ===\")\n",
    "print(f'总共成功处理图片数量: {len(ratios)}')\n",
    "ratio_counter = Counter([str(r) for r in ratios])\n",
    "print(\"\\n长宽比分布:\")\n",
    "for ratio, count in ratio_counter.most_common():\n",
    "    percentage = (count / len(ratios)) * 100\n",
    "    print(f'比例 {ratio}: {count}次 ({percentage:.1f}%)')\n",
    "target_ratio = 2/3\n",
    "tolerance = 0.05\n",
    "matches = sum(1 for r in ratios if abs(r - target_ratio) <= tolerance)\n",
    "match_percentage = (matches / len(ratios)) * 100 if ratios else 0\n",
    "print(f'\\n符合2:3比例(误差范围±5%)的图片数量: {matches}/{len(ratios)} ({match_percentage:.1f}%)')"
   ],
   "outputs": [
    {
     "name": "stdout",
     "output_type": "stream",
     "text": [
      "Processing iteration 1/2...\n",
      "Processing iteration 2/2...\n",
      "\n",
      "=== 分析结果 ===\n",
      "总共成功处理图片数量: 2\n",
      "\n",
      "长宽比分布:\n",
      "比例 0.67: 2次 (100.0%)\n",
      "\n",
      "符合2:3比例(误差范围±5%)的图片数量: 2/2 (100.0%)\n"
     ]
    }
   ],
   "execution_count": 3
  }
 ],
 "metadata": {
  "language_info": {
   "name": "python"
  }
 },
 "nbformat": 4,
 "nbformat_minor": 2
}
