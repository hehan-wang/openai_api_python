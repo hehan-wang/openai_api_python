{
 "cells": [
  {
   "cell_type": "code",
   "execution_count": 7,
   "id": "initial_id",
   "metadata": {
    "collapsed": true,
    "ExecuteTime": {
     "end_time": "2023-12-30T17:13:28.932858Z",
     "start_time": "2023-12-30T17:13:25.495736Z"
    }
   },
   "outputs": [
    {
     "name": "stdout",
     "output_type": "stream",
     "text": [
      "origin voice: 你好,今天天气怎么样?\n",
      "translate to english: ChatCompletion(id='chatcmpl-8bXBnCuo7GLuNBqZlztmaqaSpZpaS', choices=[Choice(finish_reason='stop', index=0, logprobs=None, message=ChatCompletionMessage(content='Hello, how is the weather today?', role='assistant', function_call=None, tool_calls=None))], created=1703956407, model='gpt-3.5-turbo-1106', object='chat.completion', system_fingerprint='fp_772e8125bb', usage=CompletionUsage(completion_tokens=8, prompt_tokens=37, total_tokens=45))\n"
     ]
    }
   ],
   "source": [
    "# 实时翻译机器人\n",
    "import os\n",
    "from openai import OpenAI\n",
    "\n",
    "os.environ['OPENAI_BASE_URL'] = 'https://key.wenwen-ai.com/v1'\n",
    "os.environ['OPENAI_API_KEY'] = 'sk-6V2exWFBSa2lmuZ7C0D773D1BaEd4fB7A1B6A0A265D550C6'\n",
    "client = OpenAI()\n",
    "\n",
    "# 1. 语音识别成文字\n",
    "audio_file = open(\"input.m4a\", \"rb\")\n",
    "cn_text = client.audio.transcriptions.create(\n",
    "    model=\"whisper-1\",\n",
    "    file=audio_file,\n",
    "    response_format=\"text\",\n",
    "    language=\"zh\",\n",
    "    temperature=0,\n",
    "    # prompt=\"\",\n",
    ")\n",
    "print(f\"origin voice: {cn_text}\")\n",
    "\n",
    "# 2. 使用chat接口文字翻译成英文\n",
    "response = client.chat.completions.create(\n",
    "    model=\"gpt-3.5-turbo-1106\",\n",
    "    messages=[\n",
    "        {\"role\": \"system\", \"content\": \"You are a helpful assistant.\"},\n",
    "        {\"role\": \"user\", \"content\": \"translate from chinese to english: \" + cn_text}, ],\n",
    "    temperature=0,\n",
    ")\n",
    "print(f\"translate to english: {response}\")\n",
    "\n",
    "en_text = response.choices[0].message.content\n",
    "\n",
    "# 3. 英文转换成语音\n",
    "speech_file_path = \"output_translate.mp3\"\n",
    "response = client.audio.speech.create(\n",
    "    model=\"tts-1\",\n",
    "    voice=\"alloy\",\n",
    "    input=en_text,\n",
    "    response_format=\"mp3\",\n",
    "    speed=1,\n",
    ")\n",
    "response.stream_to_file(speech_file_path)\n"
   ]
  }
 ],
 "metadata": {
  "kernelspec": {
   "display_name": "Python 3",
   "language": "python",
   "name": "python3"
  },
  "language_info": {
   "codemirror_mode": {
    "name": "ipython",
    "version": 2
   },
   "file_extension": ".py",
   "mimetype": "text/x-python",
   "name": "python",
   "nbconvert_exporter": "python",
   "pygments_lexer": "ipython2",
   "version": "2.7.6"
  }
 },
 "nbformat": 4,
 "nbformat_minor": 5
}
