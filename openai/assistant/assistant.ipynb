{
 "cells": [
  {
   "cell_type": "code",
   "execution_count": 6,
   "outputs": [],
   "source": [
    "# 初始化环境，可以设置成全局的环境变量，也可以在代码中指定\n",
    "from openai import OpenAI\n",
    "\n",
    "# 我自建的openai代理\n",
    "# os.environ['OPENAI_BASE_URL'] = 'https://proxy.hehanwang.com/v1'\n",
    "# 填写你自己的key\n",
    "# os.environ['OPENAI_API_KEY'] = 'sk-xxx'\n",
    "\n",
    "client = OpenAI()"
   ],
   "metadata": {
    "collapsed": false,
    "ExecuteTime": {
     "end_time": "2023-12-31T07:38:00.371065Z",
     "start_time": "2023-12-31T07:38:00.333541Z"
    }
   },
   "id": "9fc749be3820b6e"
  },
  {
   "cell_type": "code",
   "execution_count": 32,
   "id": "initial_id",
   "metadata": {
    "collapsed": true,
    "ExecuteTime": {
     "end_time": "2024-01-01T06:31:41.623903Z",
     "start_time": "2024-01-01T06:31:36.845386Z"
    }
   },
   "outputs": [
    {
     "name": "stdout",
     "output_type": "stream",
     "text": [
      "{\"id\":\"asst_t0bWAbsNIBHrGAbpITmrzk3A\",\"created_at\":1704090698,\"description\":\"数学老师\",\"file_ids\":[],\"instructions\":\"You are a personal math tutor. Write and run code to answer math questions.\",\"metadata\":{},\"model\":\"gpt-4-1106-preview\",\"name\":\"Math Tutor\",\"object\":\"assistant\",\"tools\":[{\"type\":\"code_interpreter\"}]}\n"
     ]
    }
   ],
   "source": [
    "# 1.  创建助手\n",
    "assistant = client.beta.assistants.create(\n",
    "    # 助手名称\n",
    "    name=\"Math Tutor\",\n",
    "    # 填写提示词\n",
    "    instructions=\"You are a personal math tutor. Write and run code to answer math questions.\",\n",
    "    # 助手的描述\n",
    "    description=\"数学老师\",\n",
    "    tools=[\n",
    "        # 开启代码解释器\n",
    "        {\"type\": \"code_interpreter\"}\n",
    "    ],\n",
    "    # 模型\n",
    "    model=\"gpt-4-1106-preview\"\n",
    ")\n",
    "print(assistant.model_dump_json())"
   ]
  },
  {
   "cell_type": "code",
   "execution_count": 33,
   "outputs": [
    {
     "name": "stdout",
     "output_type": "stream",
     "text": [
      "{\"data\":[{\"id\":\"asst_t0bWAbsNIBHrGAbpITmrzk3A\",\"created_at\":1704090698,\"description\":\"数学老师\",\"file_ids\":[],\"instructions\":\"You are a personal math tutor. Write and run code to answer math questions.\",\"metadata\":{},\"model\":\"gpt-4-1106-preview\",\"name\":\"Math Tutor\",\"object\":\"assistant\",\"tools\":[{\"type\":\"code_interpreter\"}]},{\"id\":\"asst_fxRmqNs5mfpIlDNCdDDmBtYW\",\"created_at\":1704005702,\"description\":null,\"file_ids\":[\"file-Wr37STwvSePp7cLLqQ9rp0Xo\"],\"instructions\":null,\"metadata\":{},\"model\":\"gpt-3.5-turbo-1106\",\"name\":\"高效能助手\",\"object\":\"assistant\",\"tools\":[{\"type\":\"code_interpreter\"},{\"type\":\"retrieval\"},{\"function\":{\"name\":\"get_weather\",\"description\":\"Determine weather in my location\",\"parameters\":{\"type\":\"object\",\"properties\":{\"location\":{\"type\":\"string\",\"description\":\"The city and state e.g. San Francisco, CA\"},\"unit\":{\"type\":\"string\",\"enum\":[\"c\",\"f\"]}},\"required\":[\"location\"]}},\"type\":\"function\"}]}],\"object\":\"list\",\"first_id\":\"asst_t0bWAbsNIBHrGAbpITmrzk3A\",\"last_id\":\"asst_fxRmqNs5mfpIlDNCdDDmBtYW\",\"has_more\":false}\n"
     ]
    }
   ],
   "source": [
    "# 获取assistants列表\n",
    "my_assistants = client.beta.assistants.list(\n",
    "    order=\"desc\",\n",
    "    limit=\"20\",\n",
    ")\n",
    "print(my_assistants.model_dump_json())"
   ],
   "metadata": {
    "collapsed": false,
    "ExecuteTime": {
     "end_time": "2024-01-01T06:31:54.421944Z",
     "start_time": "2024-01-01T06:31:47.258796Z"
    }
   },
   "id": "80105eb89ecb5b0e"
  },
  {
   "cell_type": "code",
   "execution_count": 34,
   "outputs": [
    {
     "name": "stdout",
     "output_type": "stream",
     "text": [
      "{\"id\":\"asst_t0bWAbsNIBHrGAbpITmrzk3A\",\"created_at\":1704090698,\"description\":\"数学老师\",\"file_ids\":[],\"instructions\":\"You are a personal math tutor. Write and run code to answer math questions.\",\"metadata\":{},\"model\":\"gpt-4-1106-preview\",\"name\":\"Math Tutor\",\"object\":\"assistant\",\"tools\":[{\"type\":\"code_interpreter\"}]}\n"
     ]
    }
   ],
   "source": [
    "# 获取assistants详情\n",
    "my_assistant = client.beta.assistants.retrieve(assistant.id)\n",
    "print(my_assistant.model_dump_json())"
   ],
   "metadata": {
    "collapsed": false,
    "ExecuteTime": {
     "end_time": "2024-01-01T06:31:56.371007Z",
     "start_time": "2024-01-01T06:31:54.420626Z"
    }
   },
   "id": "e027b73edf6c5afa"
  },
  {
   "cell_type": "code",
   "execution_count": 31,
   "outputs": [
    {
     "name": "stdout",
     "output_type": "stream",
     "text": [
      "{\"id\":\"asst_0sxLXccq88BZXwTpes2xlm8J\",\"deleted\":true,\"object\":\"assistant.deleted\"}\n"
     ]
    }
   ],
   "source": [
    "# 删除助手\n",
    "response = client.beta.assistants.delete(\"asst_0sxLXccq88BZXwTpes2xlm8J\")\n",
    "print(response.model_dump_json())"
   ],
   "metadata": {
    "collapsed": false,
    "ExecuteTime": {
     "end_time": "2024-01-01T06:31:28.499120Z",
     "start_time": "2024-01-01T06:31:25.291042Z"
    }
   },
   "id": "d64f86382eda0234"
  },
  {
   "cell_type": "code",
   "execution_count": 22,
   "outputs": [
    {
     "name": "stdout",
     "output_type": "stream",
     "text": [
      "{\"id\":\"thread_XFwk4s8kEnRqXzWPzig2qbgR\",\"created_at\":1704089379,\"metadata\":{},\"object\":\"thread\"}\n"
     ]
    }
   ],
   "source": [
    "# 2. 创建线程\n",
    "empty_thread = client.beta.threads.create()\n",
    "print(empty_thread.model_dump_json())"
   ],
   "metadata": {
    "collapsed": false,
    "ExecuteTime": {
     "end_time": "2024-01-01T06:09:40.715538Z",
     "start_time": "2024-01-01T06:09:38.122461Z"
    }
   },
   "id": "b4e6dab6f00500cf"
  },
  {
   "cell_type": "code",
   "execution_count": 27,
   "outputs": [
    {
     "name": "stdout",
     "output_type": "stream",
     "text": [
      "{\"id\":\"thread_XFwk4s8kEnRqXzWPzig2qbgR\",\"created_at\":1704089379,\"metadata\":{},\"object\":\"thread\"}\n"
     ]
    }
   ],
   "source": [
    "# 获取线程\n",
    "my_thread = client.beta.threads.retrieve(empty_thread.id)\n",
    "print(my_thread.model_dump_json())"
   ],
   "metadata": {
    "collapsed": false,
    "ExecuteTime": {
     "end_time": "2024-01-01T06:21:01.794351Z",
     "start_time": "2024-01-01T06:20:58.742997Z"
    }
   },
   "id": "6c20f4cd193fd28d"
  },
  {
   "cell_type": "code",
   "execution_count": 23,
   "outputs": [
    {
     "name": "stdout",
     "output_type": "stream",
     "text": [
      "{\"id\":\"thread_uztos9m97ckTgHmzuqpNFjXe\",\"deleted\":true,\"object\":\"thread.deleted\"}\n"
     ]
    }
   ],
   "source": [
    "# 删除线程\n",
    "response = client.beta.threads.delete(\"thread_uztos9m97ckTgHmzuqpNFjXe\")\n",
    "print(response.model_dump_json())"
   ],
   "metadata": {
    "collapsed": false,
    "ExecuteTime": {
     "end_time": "2024-01-01T06:10:11.798505Z",
     "start_time": "2024-01-01T06:10:08.056384Z"
    }
   },
   "id": "de339af7e6d8399"
  },
  {
   "cell_type": "code",
   "execution_count": 25,
   "outputs": [
    {
     "name": "stdout",
     "output_type": "stream",
     "text": [
      "{\"id\":\"msg_EcBReuQtvX3IOavyVxoHAavm\",\"assistant_id\":null,\"content\":[{\"text\":{\"annotations\":[],\"value\":\"I need to solve the equation `3x + 11 = 14`. Can you help me?\"},\"type\":\"text\"}],\"created_at\":1704089909,\"file_ids\":[],\"metadata\":{},\"object\":\"thread.message\",\"role\":\"user\",\"run_id\":null,\"thread_id\":\"thread_XFwk4s8kEnRqXzWPzig2qbgR\"}\n"
     ]
    }
   ],
   "source": [
    "# 3. 向主题添加消息\n",
    "message = client.beta.threads.messages.create(\n",
    "    thread_id=my_thread.id,\n",
    "    role=\"user\",\n",
    "    content=\"I need to solve the equation `3x + 11 = 14`. Can you help me?\"\n",
    ")\n",
    "print(message.model_dump_json())"
   ],
   "metadata": {
    "collapsed": false,
    "ExecuteTime": {
     "end_time": "2024-01-01T06:18:29.754998Z",
     "start_time": "2024-01-01T06:18:23.732155Z"
    }
   },
   "id": "cb0b9b45e5cc4cbc"
  },
  {
   "cell_type": "code",
   "execution_count": 40,
   "outputs": [
    {
     "name": "stdout",
     "output_type": "stream",
     "text": [
      "{\"data\":[{\"id\":\"msg_Wm6Yu6EQDjB2gSsRFlXy6XF2\",\"assistant_id\":\"asst_t0bWAbsNIBHrGAbpITmrzk3A\",\"content\":[{\"text\":{\"annotations\":[],\"value\":\"The solution to the equation \\\\(3x + 11 = 14\\\\) is \\\\(x = 1\\\\).\"},\"type\":\"text\"}],\"created_at\":1704091050,\"file_ids\":[],\"metadata\":{},\"object\":\"thread.message\",\"role\":\"assistant\",\"run_id\":\"run_YMwY65NDOlrKA4C6eYEJnvld\",\"thread_id\":\"thread_XFwk4s8kEnRqXzWPzig2qbgR\"},{\"id\":\"msg_EcBReuQtvX3IOavyVxoHAavm\",\"assistant_id\":null,\"content\":[{\"text\":{\"annotations\":[],\"value\":\"I need to solve the equation `3x + 11 = 14`. Can you help me?\"},\"type\":\"text\"}],\"created_at\":1704089909,\"file_ids\":[],\"metadata\":{},\"object\":\"thread.message\",\"role\":\"user\",\"run_id\":null,\"thread_id\":\"thread_XFwk4s8kEnRqXzWPzig2qbgR\"}],\"object\":\"list\",\"first_id\":\"msg_Wm6Yu6EQDjB2gSsRFlXy6XF2\",\"last_id\":\"msg_EcBReuQtvX3IOavyVxoHAavm\",\"has_more\":false}\n"
     ]
    }
   ],
   "source": [
    "# 获取线程下的所有消息\n",
    "thread_messages = client.beta.threads.messages.list(thread_id=my_thread.id)\n",
    "print(thread_messages.model_dump_json())"
   ],
   "metadata": {
    "collapsed": false,
    "ExecuteTime": {
     "end_time": "2024-01-01T06:53:09.969145Z",
     "start_time": "2024-01-01T06:53:02.431713Z"
    }
   },
   "id": "1860cd9f550a27cd"
  },
  {
   "cell_type": "code",
   "execution_count": 39,
   "outputs": [
    {
     "name": "stdout",
     "output_type": "stream",
     "text": [
      "{\"id\":\"msg_EcBReuQtvX3IOavyVxoHAavm\",\"assistant_id\":null,\"content\":[{\"text\":{\"annotations\":[],\"value\":\"I need to solve the equation `3x + 11 = 14`. Can you help me?\"},\"type\":\"text\"}],\"created_at\":1704089909,\"file_ids\":[],\"metadata\":{},\"object\":\"thread.message\",\"role\":\"user\",\"run_id\":null,\"thread_id\":\"thread_XFwk4s8kEnRqXzWPzig2qbgR\"}\n"
     ]
    }
   ],
   "source": [
    "# 获取消息详情\n",
    "message = client.beta.threads.messages.retrieve(\n",
    "    message_id=message.id,\n",
    "    thread_id=message.thread_id,\n",
    ")\n",
    "print(message.model_dump_json())"
   ],
   "metadata": {
    "collapsed": false,
    "ExecuteTime": {
     "end_time": "2024-01-01T06:52:21.801330Z",
     "start_time": "2024-01-01T06:52:20.150170Z"
    }
   },
   "id": "54a980d3147d6586"
  },
  {
   "cell_type": "code",
   "execution_count": 35,
   "outputs": [
    {
     "name": "stdout",
     "output_type": "stream",
     "text": [
      "{\"id\":\"run_YMwY65NDOlrKA4C6eYEJnvld\",\"assistant_id\":\"asst_t0bWAbsNIBHrGAbpITmrzk3A\",\"cancelled_at\":null,\"completed_at\":null,\"created_at\":1704091037,\"expires_at\":1704091637,\"failed_at\":null,\"file_ids\":[],\"instructions\":\"You are a personal math tutor. Write and run code to answer math questions.\",\"last_error\":null,\"metadata\":{},\"model\":\"gpt-4-1106-preview\",\"object\":\"thread.run\",\"required_action\":null,\"started_at\":null,\"status\":\"queued\",\"thread_id\":\"thread_XFwk4s8kEnRqXzWPzig2qbgR\",\"tools\":[{\"type\":\"code_interpreter\"}]}\n"
     ]
    }
   ],
   "source": [
    "# 4. 运行助手 \n",
    "run = client.beta.threads.runs.create(\n",
    "    thread_id=my_thread.id,\n",
    "    assistant_id=assistant.id\n",
    ")\n",
    "print(run.model_dump_json())"
   ],
   "metadata": {
    "collapsed": false,
    "ExecuteTime": {
     "end_time": "2024-01-01T06:37:18.861173Z",
     "start_time": "2024-01-01T06:37:14.804880Z"
    }
   },
   "id": "cc34b70a33d19c2a"
  },
  {
   "cell_type": "code",
   "execution_count": 36,
   "outputs": [
    {
     "name": "stdout",
     "output_type": "stream",
     "text": [
      "{\"data\":[{\"id\":\"run_YMwY65NDOlrKA4C6eYEJnvld\",\"assistant_id\":\"asst_t0bWAbsNIBHrGAbpITmrzk3A\",\"cancelled_at\":null,\"completed_at\":1704091051,\"created_at\":1704091037,\"expires_at\":null,\"failed_at\":null,\"file_ids\":[],\"instructions\":\"You are a personal math tutor. Write and run code to answer math questions.\",\"last_error\":null,\"metadata\":{},\"model\":\"gpt-4-1106-preview\",\"object\":\"thread.run\",\"required_action\":null,\"started_at\":1704091038,\"status\":\"completed\",\"thread_id\":\"thread_XFwk4s8kEnRqXzWPzig2qbgR\",\"tools\":[{\"type\":\"code_interpreter\"}]}],\"object\":\"list\",\"first_id\":\"run_YMwY65NDOlrKA4C6eYEJnvld\",\"last_id\":\"run_YMwY65NDOlrKA4C6eYEJnvld\",\"has_more\":false}\n"
     ]
    }
   ],
   "source": [
    "# 返回属于线程的运行列表。\n",
    "runs = client.beta.threads.runs.list(run.thread_id)\n",
    "print(runs.model_dump_json())"
   ],
   "metadata": {
    "collapsed": false,
    "ExecuteTime": {
     "end_time": "2024-01-01T06:38:54.863139Z",
     "start_time": "2024-01-01T06:38:52.644860Z"
    }
   },
   "id": "6c78f6bb505489ac"
  },
  {
   "cell_type": "code",
   "execution_count": 37,
   "outputs": [
    {
     "name": "stdout",
     "output_type": "stream",
     "text": [
      "{\"data\":[{\"id\":\"step_nYNgONjmXLBMyjDM4hxcefFg\",\"assistant_id\":\"asst_t0bWAbsNIBHrGAbpITmrzk3A\",\"cancelled_at\":null,\"completed_at\":1704091051,\"created_at\":1704091050,\"expired_at\":null,\"failed_at\":null,\"last_error\":null,\"metadata\":null,\"object\":\"thread.run.step\",\"run_id\":\"run_YMwY65NDOlrKA4C6eYEJnvld\",\"status\":\"completed\",\"step_details\":{\"message_creation\":{\"message_id\":\"msg_Wm6Yu6EQDjB2gSsRFlXy6XF2\"},\"type\":\"message_creation\"},\"thread_id\":\"thread_XFwk4s8kEnRqXzWPzig2qbgR\",\"type\":\"message_creation\",\"expires_at\":null},{\"id\":\"step_AxsYHaEznO0MuP9ySsTjfjOw\",\"assistant_id\":\"asst_t0bWAbsNIBHrGAbpITmrzk3A\",\"cancelled_at\":null,\"completed_at\":1704091050,\"created_at\":1704091039,\"expired_at\":null,\"failed_at\":null,\"last_error\":null,\"metadata\":null,\"object\":\"thread.run.step\",\"run_id\":\"run_YMwY65NDOlrKA4C6eYEJnvld\",\"status\":\"completed\",\"step_details\":{\"tool_calls\":[{\"id\":\"call_8ZtciUHG9B9FMjxJHyXThRgi\",\"code_interpreter\":{\"input\":\"from sympy import symbols, Eq, solve\\n\\nx = symbols('x')\\nequation = Eq(3*x + 11, 14)  # Represents the equation 3x + 11 = 14\\nsolution = solve(equation, x)\\nsolution\",\"outputs\":[{\"logs\":\"[1]\",\"type\":\"logs\"}]},\"type\":\"code_interpreter\"}],\"type\":\"tool_calls\"},\"thread_id\":\"thread_XFwk4s8kEnRqXzWPzig2qbgR\",\"type\":\"tool_calls\",\"expires_at\":null}],\"object\":\"list\",\"first_id\":\"step_nYNgONjmXLBMyjDM4hxcefFg\",\"last_id\":\"step_AxsYHaEznO0MuP9ySsTjfjOw\",\"has_more\":false}\n"
     ]
    }
   ],
   "source": [
    "# 列出运行详细步骤\n",
    "run_steps = client.beta.threads.runs.steps.list(\n",
    "    thread_id=my_thread.id,\n",
    "    run_id=run.id\n",
    ")\n",
    "print(run_steps.model_dump_json())"
   ],
   "metadata": {
    "collapsed": false,
    "ExecuteTime": {
     "end_time": "2024-01-01T06:42:27.756266Z",
     "start_time": "2024-01-01T06:42:26.291918Z"
    }
   },
   "id": "84d760d77e38f971"
  },
  {
   "cell_type": "code",
   "execution_count": 38,
   "outputs": [
    {
     "name": "stdout",
     "output_type": "stream",
     "text": [
      "{\"id\":\"run_YMwY65NDOlrKA4C6eYEJnvld\",\"assistant_id\":\"asst_t0bWAbsNIBHrGAbpITmrzk3A\",\"cancelled_at\":null,\"completed_at\":1704091051,\"created_at\":1704091037,\"expires_at\":null,\"failed_at\":null,\"file_ids\":[],\"instructions\":\"You are a personal math tutor. Write and run code to answer math questions.\",\"last_error\":null,\"metadata\":{},\"model\":\"gpt-4-1106-preview\",\"object\":\"thread.run\",\"required_action\":null,\"started_at\":1704091038,\"status\":\"completed\",\"thread_id\":\"thread_XFwk4s8kEnRqXzWPzig2qbgR\",\"tools\":[{\"type\":\"code_interpreter\"}]}\n"
     ]
    }
   ],
   "source": [
    "# 5. 检查运行状态\n",
    "run = client.beta.threads.runs.retrieve(\n",
    "    thread_id=my_thread.id,\n",
    "    run_id=run.id\n",
    ")\n",
    "print(run.model_dump_json())"
   ],
   "metadata": {
    "collapsed": false,
    "ExecuteTime": {
     "end_time": "2024-01-01T06:48:59.699643Z",
     "start_time": "2024-01-01T06:48:57.358996Z"
    }
   },
   "id": "71a895d58e8509f0"
  },
  {
   "cell_type": "code",
   "execution_count": 41,
   "outputs": [
    {
     "name": "stdout",
     "output_type": "stream",
     "text": [
      "{\"data\":[{\"id\":\"msg_Wm6Yu6EQDjB2gSsRFlXy6XF2\",\"assistant_id\":\"asst_t0bWAbsNIBHrGAbpITmrzk3A\",\"content\":[{\"text\":{\"annotations\":[],\"value\":\"The solution to the equation \\\\(3x + 11 = 14\\\\) is \\\\(x = 1\\\\).\"},\"type\":\"text\"}],\"created_at\":1704091050,\"file_ids\":[],\"metadata\":{},\"object\":\"thread.message\",\"role\":\"assistant\",\"run_id\":\"run_YMwY65NDOlrKA4C6eYEJnvld\",\"thread_id\":\"thread_XFwk4s8kEnRqXzWPzig2qbgR\"},{\"id\":\"msg_EcBReuQtvX3IOavyVxoHAavm\",\"assistant_id\":null,\"content\":[{\"text\":{\"annotations\":[],\"value\":\"I need to solve the equation `3x + 11 = 14`. Can you help me?\"},\"type\":\"text\"}],\"created_at\":1704089909,\"file_ids\":[],\"metadata\":{},\"object\":\"thread.message\",\"role\":\"user\",\"run_id\":null,\"thread_id\":\"thread_XFwk4s8kEnRqXzWPzig2qbgR\"}],\"object\":\"list\",\"first_id\":\"msg_Wm6Yu6EQDjB2gSsRFlXy6XF2\",\"last_id\":\"msg_EcBReuQtvX3IOavyVxoHAavm\",\"has_more\":false}\n"
     ]
    }
   ],
   "source": [
    "# 6. 显示最终响应\n",
    "thread_messages = client.beta.threads.messages.list(thread_id=my_thread.id)\n",
    "print(thread_messages.model_dump_json())"
   ],
   "metadata": {
    "collapsed": false,
    "ExecuteTime": {
     "end_time": "2024-01-01T07:19:59.636966Z",
     "start_time": "2024-01-01T07:19:54.891803Z"
    }
   },
   "id": "faacf362bba7493c"
  }
 ],
 "metadata": {
  "kernelspec": {
   "display_name": "Python 3",
   "language": "python",
   "name": "python3"
  },
  "language_info": {
   "codemirror_mode": {
    "name": "ipython",
    "version": 2
   },
   "file_extension": ".py",
   "mimetype": "text/x-python",
   "name": "python",
   "nbconvert_exporter": "python",
   "pygments_lexer": "ipython2",
   "version": "2.7.6"
  }
 },
 "nbformat": 4,
 "nbformat_minor": 5
}
