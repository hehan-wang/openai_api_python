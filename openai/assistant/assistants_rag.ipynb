{
 "cells": [
  {
   "cell_type": "code",
   "execution_count": 6,
   "id": "initial_id",
   "metadata": {
    "collapsed": true,
    "ExecuteTime": {
     "end_time": "2024-01-01T08:03:34.802676Z",
     "start_time": "2024-01-01T08:03:25.953736Z"
    }
   },
   "outputs": [
    {
     "name": "stdout",
     "output_type": "stream",
     "text": [
      "{\"id\":\"file-kS0Zhq21HPm9HNGWYBaGCeIY\",\"bytes\":6520,\"created_at\":1704096208,\"filename\":\"提示词框架：BROKE.md\",\"object\":\"file\",\"purpose\":\"assistants\",\"status\":\"processed\",\"status_details\":null}\n",
      "{\"id\":\"asst_Cn3Wue2SGENhBOXCsyDavmje\",\"created_at\":1704096209,\"description\":null,\"file_ids\":[\"file-kS0Zhq21HPm9HNGWYBaGCeIY\"],\"instructions\":\"You are a customer support chatbot. Use your knowledge base to best respond to customer queries.\",\"metadata\":{},\"model\":\"gpt-4-1106-preview\",\"name\":\"RAG Assistant\",\"object\":\"assistant\",\"tools\":[{\"type\":\"retrieval\"}]}\n"
     ]
    }
   ],
   "source": [
    "# 初始化环境，可以设置成全局的环境变量，也可以在代码中指定\n",
    "from openai import OpenAI\n",
    "import os\n",
    "\n",
    "# 我自建的openai代理\n",
    "# os.environ['OPENAI_BASE_URL'] = 'https://proxy.hehanwang.com/v1'\n",
    "# 填写你自己的key\n",
    "# os.environ['OPENAI_API_KEY'] = 'sk-xxx'\n",
    "\n",
    "client = OpenAI()\n",
    "\n",
    "# 1.上传文件\n",
    "file = client.files.create(\n",
    "    file=open('data/提示词框架：BROKE.md', 'rb'),\n",
    "    purpose='assistants')\n",
    "print(file.model_dump_json())\n",
    "\n",
    "# 2.创建助手\n",
    "assistant = client.beta.assistants.create(\n",
    "    instructions=\"You are a customer support chatbot. Use your knowledge base to best respond to customer queries.\",\n",
    "    model=\"gpt-4-1106-preview\",\n",
    "    tools=[{\"type\": \"retrieval\"}],\n",
    "    name=\"RAG Assistant\",\n",
    "    file_ids=[file.id]\n",
    ")\n",
    "print(assistant.model_dump_json())"
   ]
  },
  {
   "cell_type": "code",
   "execution_count": 7,
   "outputs": [
    {
     "name": "stdout",
     "output_type": "stream",
     "text": [
      "{\"id\":\"run_AIHpFK4DTj31uuvYyG2sPr5c\",\"assistant_id\":\"asst_Cn3Wue2SGENhBOXCsyDavmje\",\"cancelled_at\":null,\"completed_at\":null,\"created_at\":1704097096,\"expires_at\":1704097696,\"failed_at\":null,\"file_ids\":[\"file-kS0Zhq21HPm9HNGWYBaGCeIY\"],\"instructions\":\"You are a customer support chatbot. Use your knowledge base to best respond to customer queries.\",\"last_error\":null,\"metadata\":{},\"model\":\"gpt-4-1106-preview\",\"object\":\"thread.run\",\"required_action\":null,\"started_at\":null,\"status\":\"queued\",\"thread_id\":\"thread_zu60CQF55WIOF2tOquwcsiAg\",\"tools\":[{\"type\":\"retrieval\"}]}\n",
      "{\"id\":\"run_AIHpFK4DTj31uuvYyG2sPr5c\",\"assistant_id\":\"asst_Cn3Wue2SGENhBOXCsyDavmje\",\"cancelled_at\":null,\"completed_at\":null,\"created_at\":1704097096,\"expires_at\":1704097696,\"failed_at\":null,\"file_ids\":[\"file-kS0Zhq21HPm9HNGWYBaGCeIY\"],\"instructions\":\"You are a customer support chatbot. Use your knowledge base to best respond to customer queries.\",\"last_error\":null,\"metadata\":{},\"model\":\"gpt-4-1106-preview\",\"object\":\"thread.run\",\"required_action\":null,\"started_at\":1704097096,\"status\":\"in_progress\",\"thread_id\":\"thread_zu60CQF55WIOF2tOquwcsiAg\",\"tools\":[{\"type\":\"retrieval\"}]}\n",
      "{\"id\":\"run_AIHpFK4DTj31uuvYyG2sPr5c\",\"assistant_id\":\"asst_Cn3Wue2SGENhBOXCsyDavmje\",\"cancelled_at\":null,\"completed_at\":null,\"created_at\":1704097096,\"expires_at\":1704097696,\"failed_at\":null,\"file_ids\":[\"file-kS0Zhq21HPm9HNGWYBaGCeIY\"],\"instructions\":\"You are a customer support chatbot. Use your knowledge base to best respond to customer queries.\",\"last_error\":null,\"metadata\":{},\"model\":\"gpt-4-1106-preview\",\"object\":\"thread.run\",\"required_action\":null,\"started_at\":1704097096,\"status\":\"in_progress\",\"thread_id\":\"thread_zu60CQF55WIOF2tOquwcsiAg\",\"tools\":[{\"type\":\"retrieval\"}]}\n",
      "{\"id\":\"run_AIHpFK4DTj31uuvYyG2sPr5c\",\"assistant_id\":\"asst_Cn3Wue2SGENhBOXCsyDavmje\",\"cancelled_at\":null,\"completed_at\":null,\"created_at\":1704097096,\"expires_at\":1704097696,\"failed_at\":null,\"file_ids\":[\"file-kS0Zhq21HPm9HNGWYBaGCeIY\"],\"instructions\":\"You are a customer support chatbot. Use your knowledge base to best respond to customer queries.\",\"last_error\":null,\"metadata\":{},\"model\":\"gpt-4-1106-preview\",\"object\":\"thread.run\",\"required_action\":null,\"started_at\":1704097096,\"status\":\"in_progress\",\"thread_id\":\"thread_zu60CQF55WIOF2tOquwcsiAg\",\"tools\":[{\"type\":\"retrieval\"}]}\n",
      "{\"id\":\"run_AIHpFK4DTj31uuvYyG2sPr5c\",\"assistant_id\":\"asst_Cn3Wue2SGENhBOXCsyDavmje\",\"cancelled_at\":null,\"completed_at\":null,\"created_at\":1704097096,\"expires_at\":1704097696,\"failed_at\":null,\"file_ids\":[\"file-kS0Zhq21HPm9HNGWYBaGCeIY\"],\"instructions\":\"You are a customer support chatbot. Use your knowledge base to best respond to customer queries.\",\"last_error\":null,\"metadata\":{},\"model\":\"gpt-4-1106-preview\",\"object\":\"thread.run\",\"required_action\":null,\"started_at\":1704097096,\"status\":\"in_progress\",\"thread_id\":\"thread_zu60CQF55WIOF2tOquwcsiAg\",\"tools\":[{\"type\":\"retrieval\"}]}\n",
      "{\"id\":\"run_AIHpFK4DTj31uuvYyG2sPr5c\",\"assistant_id\":\"asst_Cn3Wue2SGENhBOXCsyDavmje\",\"cancelled_at\":null,\"completed_at\":null,\"created_at\":1704097096,\"expires_at\":1704097696,\"failed_at\":null,\"file_ids\":[\"file-kS0Zhq21HPm9HNGWYBaGCeIY\"],\"instructions\":\"You are a customer support chatbot. Use your knowledge base to best respond to customer queries.\",\"last_error\":null,\"metadata\":{},\"model\":\"gpt-4-1106-preview\",\"object\":\"thread.run\",\"required_action\":null,\"started_at\":1704097096,\"status\":\"in_progress\",\"thread_id\":\"thread_zu60CQF55WIOF2tOquwcsiAg\",\"tools\":[{\"type\":\"retrieval\"}]}\n",
      "{\"id\":\"run_AIHpFK4DTj31uuvYyG2sPr5c\",\"assistant_id\":\"asst_Cn3Wue2SGENhBOXCsyDavmje\",\"cancelled_at\":null,\"completed_at\":null,\"created_at\":1704097096,\"expires_at\":1704097696,\"failed_at\":null,\"file_ids\":[\"file-kS0Zhq21HPm9HNGWYBaGCeIY\"],\"instructions\":\"You are a customer support chatbot. Use your knowledge base to best respond to customer queries.\",\"last_error\":null,\"metadata\":{},\"model\":\"gpt-4-1106-preview\",\"object\":\"thread.run\",\"required_action\":null,\"started_at\":1704097096,\"status\":\"in_progress\",\"thread_id\":\"thread_zu60CQF55WIOF2tOquwcsiAg\",\"tools\":[{\"type\":\"retrieval\"}]}\n",
      "{\"id\":\"run_AIHpFK4DTj31uuvYyG2sPr5c\",\"assistant_id\":\"asst_Cn3Wue2SGENhBOXCsyDavmje\",\"cancelled_at\":null,\"completed_at\":null,\"created_at\":1704097096,\"expires_at\":1704097696,\"failed_at\":null,\"file_ids\":[\"file-kS0Zhq21HPm9HNGWYBaGCeIY\"],\"instructions\":\"You are a customer support chatbot. Use your knowledge base to best respond to customer queries.\",\"last_error\":null,\"metadata\":{},\"model\":\"gpt-4-1106-preview\",\"object\":\"thread.run\",\"required_action\":null,\"started_at\":1704097096,\"status\":\"in_progress\",\"thread_id\":\"thread_zu60CQF55WIOF2tOquwcsiAg\",\"tools\":[{\"type\":\"retrieval\"}]}\n",
      "{\"id\":\"run_AIHpFK4DTj31uuvYyG2sPr5c\",\"assistant_id\":\"asst_Cn3Wue2SGENhBOXCsyDavmje\",\"cancelled_at\":null,\"completed_at\":null,\"created_at\":1704097096,\"expires_at\":1704097696,\"failed_at\":null,\"file_ids\":[\"file-kS0Zhq21HPm9HNGWYBaGCeIY\"],\"instructions\":\"You are a customer support chatbot. Use your knowledge base to best respond to customer queries.\",\"last_error\":null,\"metadata\":{},\"model\":\"gpt-4-1106-preview\",\"object\":\"thread.run\",\"required_action\":null,\"started_at\":1704097096,\"status\":\"in_progress\",\"thread_id\":\"thread_zu60CQF55WIOF2tOquwcsiAg\",\"tools\":[{\"type\":\"retrieval\"}]}\n",
      "{\"id\":\"run_AIHpFK4DTj31uuvYyG2sPr5c\",\"assistant_id\":\"asst_Cn3Wue2SGENhBOXCsyDavmje\",\"cancelled_at\":null,\"completed_at\":null,\"created_at\":1704097096,\"expires_at\":1704097696,\"failed_at\":null,\"file_ids\":[\"file-kS0Zhq21HPm9HNGWYBaGCeIY\"],\"instructions\":\"You are a customer support chatbot. Use your knowledge base to best respond to customer queries.\",\"last_error\":null,\"metadata\":{},\"model\":\"gpt-4-1106-preview\",\"object\":\"thread.run\",\"required_action\":null,\"started_at\":1704097096,\"status\":\"in_progress\",\"thread_id\":\"thread_zu60CQF55WIOF2tOquwcsiAg\",\"tools\":[{\"type\":\"retrieval\"}]}\n",
      "{\"id\":\"run_AIHpFK4DTj31uuvYyG2sPr5c\",\"assistant_id\":\"asst_Cn3Wue2SGENhBOXCsyDavmje\",\"cancelled_at\":null,\"completed_at\":null,\"created_at\":1704097096,\"expires_at\":1704097696,\"failed_at\":null,\"file_ids\":[\"file-kS0Zhq21HPm9HNGWYBaGCeIY\"],\"instructions\":\"You are a customer support chatbot. Use your knowledge base to best respond to customer queries.\",\"last_error\":null,\"metadata\":{},\"model\":\"gpt-4-1106-preview\",\"object\":\"thread.run\",\"required_action\":null,\"started_at\":1704097096,\"status\":\"in_progress\",\"thread_id\":\"thread_zu60CQF55WIOF2tOquwcsiAg\",\"tools\":[{\"type\":\"retrieval\"}]}\n",
      "{\"id\":\"run_AIHpFK4DTj31uuvYyG2sPr5c\",\"assistant_id\":\"asst_Cn3Wue2SGENhBOXCsyDavmje\",\"cancelled_at\":null,\"completed_at\":null,\"created_at\":1704097096,\"expires_at\":1704097696,\"failed_at\":null,\"file_ids\":[\"file-kS0Zhq21HPm9HNGWYBaGCeIY\"],\"instructions\":\"You are a customer support chatbot. Use your knowledge base to best respond to customer queries.\",\"last_error\":null,\"metadata\":{},\"model\":\"gpt-4-1106-preview\",\"object\":\"thread.run\",\"required_action\":null,\"started_at\":1704097096,\"status\":\"in_progress\",\"thread_id\":\"thread_zu60CQF55WIOF2tOquwcsiAg\",\"tools\":[{\"type\":\"retrieval\"}]}\n",
      "{\"id\":\"run_AIHpFK4DTj31uuvYyG2sPr5c\",\"assistant_id\":\"asst_Cn3Wue2SGENhBOXCsyDavmje\",\"cancelled_at\":null,\"completed_at\":null,\"created_at\":1704097096,\"expires_at\":1704097696,\"failed_at\":null,\"file_ids\":[\"file-kS0Zhq21HPm9HNGWYBaGCeIY\"],\"instructions\":\"You are a customer support chatbot. Use your knowledge base to best respond to customer queries.\",\"last_error\":null,\"metadata\":{},\"model\":\"gpt-4-1106-preview\",\"object\":\"thread.run\",\"required_action\":null,\"started_at\":1704097096,\"status\":\"in_progress\",\"thread_id\":\"thread_zu60CQF55WIOF2tOquwcsiAg\",\"tools\":[{\"type\":\"retrieval\"}]}\n",
      "{\"id\":\"run_AIHpFK4DTj31uuvYyG2sPr5c\",\"assistant_id\":\"asst_Cn3Wue2SGENhBOXCsyDavmje\",\"cancelled_at\":null,\"completed_at\":null,\"created_at\":1704097096,\"expires_at\":1704097696,\"failed_at\":null,\"file_ids\":[\"file-kS0Zhq21HPm9HNGWYBaGCeIY\"],\"instructions\":\"You are a customer support chatbot. Use your knowledge base to best respond to customer queries.\",\"last_error\":null,\"metadata\":{},\"model\":\"gpt-4-1106-preview\",\"object\":\"thread.run\",\"required_action\":null,\"started_at\":1704097096,\"status\":\"in_progress\",\"thread_id\":\"thread_zu60CQF55WIOF2tOquwcsiAg\",\"tools\":[{\"type\":\"retrieval\"}]}\n",
      "{\"id\":\"run_AIHpFK4DTj31uuvYyG2sPr5c\",\"assistant_id\":\"asst_Cn3Wue2SGENhBOXCsyDavmje\",\"cancelled_at\":null,\"completed_at\":null,\"created_at\":1704097096,\"expires_at\":1704097696,\"failed_at\":null,\"file_ids\":[\"file-kS0Zhq21HPm9HNGWYBaGCeIY\"],\"instructions\":\"You are a customer support chatbot. Use your knowledge base to best respond to customer queries.\",\"last_error\":null,\"metadata\":{},\"model\":\"gpt-4-1106-preview\",\"object\":\"thread.run\",\"required_action\":null,\"started_at\":1704097096,\"status\":\"in_progress\",\"thread_id\":\"thread_zu60CQF55WIOF2tOquwcsiAg\",\"tools\":[{\"type\":\"retrieval\"}]}\n",
      "{\"id\":\"run_AIHpFK4DTj31uuvYyG2sPr5c\",\"assistant_id\":\"asst_Cn3Wue2SGENhBOXCsyDavmje\",\"cancelled_at\":null,\"completed_at\":null,\"created_at\":1704097096,\"expires_at\":1704097696,\"failed_at\":null,\"file_ids\":[\"file-kS0Zhq21HPm9HNGWYBaGCeIY\"],\"instructions\":\"You are a customer support chatbot. Use your knowledge base to best respond to customer queries.\",\"last_error\":null,\"metadata\":{},\"model\":\"gpt-4-1106-preview\",\"object\":\"thread.run\",\"required_action\":null,\"started_at\":1704097096,\"status\":\"in_progress\",\"thread_id\":\"thread_zu60CQF55WIOF2tOquwcsiAg\",\"tools\":[{\"type\":\"retrieval\"}]}\n",
      "{\"id\":\"run_AIHpFK4DTj31uuvYyG2sPr5c\",\"assistant_id\":\"asst_Cn3Wue2SGENhBOXCsyDavmje\",\"cancelled_at\":null,\"completed_at\":null,\"created_at\":1704097096,\"expires_at\":1704097696,\"failed_at\":null,\"file_ids\":[\"file-kS0Zhq21HPm9HNGWYBaGCeIY\"],\"instructions\":\"You are a customer support chatbot. Use your knowledge base to best respond to customer queries.\",\"last_error\":null,\"metadata\":{},\"model\":\"gpt-4-1106-preview\",\"object\":\"thread.run\",\"required_action\":null,\"started_at\":1704097096,\"status\":\"in_progress\",\"thread_id\":\"thread_zu60CQF55WIOF2tOquwcsiAg\",\"tools\":[{\"type\":\"retrieval\"}]}\n",
      "{\"id\":\"run_AIHpFK4DTj31uuvYyG2sPr5c\",\"assistant_id\":\"asst_Cn3Wue2SGENhBOXCsyDavmje\",\"cancelled_at\":null,\"completed_at\":1704097121,\"created_at\":1704097096,\"expires_at\":null,\"failed_at\":null,\"file_ids\":[\"file-kS0Zhq21HPm9HNGWYBaGCeIY\"],\"instructions\":\"You are a customer support chatbot. Use your knowledge base to best respond to customer queries.\",\"last_error\":null,\"metadata\":{},\"model\":\"gpt-4-1106-preview\",\"object\":\"thread.run\",\"required_action\":null,\"started_at\":1704097096,\"status\":\"completed\",\"thread_id\":\"thread_zu60CQF55WIOF2tOquwcsiAg\",\"tools\":[{\"type\":\"retrieval\"}]}\n",
      "{\"data\":[{\"id\":\"msg_YxQzT53ECyQFiLY4umT9YIcY\",\"assistant_id\":\"asst_Cn3Wue2SGENhBOXCsyDavmje\",\"content\":[{\"text\":{\"annotations\":[],\"value\":\"BROKE是一个用于设计GPT提示词的框架，由陈财猫老师创造。BROKE是Background, Role, Objectives, Key Result, Evolve这五个词的缩写，它包括以下部分：\\n\\n- **Background**：阐述背景，为GPT提供充足的信息。\\n- **Role**：设定角色，让GPT进入角色。\\n- **Objectives**：定义任务目标，告诉GPT我们希望实现什么。\\n- **Key Results**：定义关键结果，让GPT知道实现目标需要达成的具体、可衡量的结果。\\n- **Evolve**：试验并调整，通过试验来检验结果，并根据需要进行调整。\\n\\n这个框架旨在增强GPT的工作效率和结果质量，确定了从背景设置到角色扮演、任务目标、关键成果直至进化这一系列流程以更好地利用GPT。\"},\"type\":\"text\"}],\"created_at\":1704097100,\"file_ids\":[],\"metadata\":{},\"object\":\"thread.message\",\"role\":\"assistant\",\"run_id\":\"run_AIHpFK4DTj31uuvYyG2sPr5c\",\"thread_id\":\"thread_zu60CQF55WIOF2tOquwcsiAg\"},{\"id\":\"msg_rVcfZGYFkPTlwQopaw625Las\",\"assistant_id\":null,\"content\":[{\"text\":{\"annotations\":[],\"value\":\"什么是BROK？\"},\"type\":\"text\"}],\"created_at\":1704097095,\"file_ids\":[],\"metadata\":{},\"object\":\"thread.message\",\"role\":\"user\",\"run_id\":null,\"thread_id\":\"thread_zu60CQF55WIOF2tOquwcsiAg\"}],\"object\":\"list\",\"first_id\":\"msg_YxQzT53ECyQFiLY4umT9YIcY\",\"last_id\":\"msg_rVcfZGYFkPTlwQopaw625Las\",\"has_more\":false}\n"
     ]
    }
   ],
   "source": [
    "import time\n",
    "\n",
    "# 3.创建对话\n",
    "run = client.beta.threads.create_and_run(\n",
    "    assistant_id=assistant.id,\n",
    "    thread={\n",
    "        \"messages\": [\n",
    "            {\"role\": \"user\", \"content\": \"什么是BROK？\"}\n",
    "        ]\n",
    "    }\n",
    ")\n",
    "print(run.model_dump_json())\n",
    "\n",
    "# 4.获取对话结果\n",
    "run = client.beta.threads.runs.retrieve(\n",
    "    thread_id=run.thread_id,\n",
    "    run_id=run.id\n",
    ")\n",
    "print(run.model_dump_json())\n",
    "\n",
    "while run.status not in {'completed', 'failed', 'expired', 'cancelled'}:\n",
    "    run = client.beta.threads.runs.retrieve(\n",
    "        thread_id=run.thread_id,\n",
    "        run_id=run.id\n",
    "    )\n",
    "    print(run.model_dump_json())\n",
    "    time.sleep(10)\n",
    "\n",
    "thread_messages = client.beta.threads.messages.list(thread_id=run.thread_id)\n",
    "print(thread_messages.model_dump_json())"
   ],
   "metadata": {
    "collapsed": false,
    "ExecuteTime": {
     "end_time": "2024-01-01T08:18:46.512706Z",
     "start_time": "2024-01-01T08:18:13.112492Z"
    }
   },
   "id": "e08f9e7167409176"
  }
 ],
 "metadata": {
  "kernelspec": {
   "display_name": "Python 3",
   "language": "python",
   "name": "python3"
  },
  "language_info": {
   "codemirror_mode": {
    "name": "ipython",
    "version": 2
   },
   "file_extension": ".py",
   "mimetype": "text/x-python",
   "name": "python",
   "nbconvert_exporter": "python",
   "pygments_lexer": "ipython2",
   "version": "2.7.6"
  }
 },
 "nbformat": 4,
 "nbformat_minor": 5
}
