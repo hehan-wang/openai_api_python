{
 "cells": [
  {
   "cell_type": "code",
   "outputs": [
    {
     "name": "stdout",
     "output_type": "stream",
     "text": [
      "你好，世界！\n",
      "{\"id\": \"\", \"choices\": [{\"finish_reason\": \"stop\", \"index\": 0, \"message\": {\"content\": \"\\u5cf0\\u5144\\u662f\\u4e00\\u4f4d\\u4e16\\u754c500\\u5f3a\\u5916\\u4f01IT\\u4e3b\\u7ba1\\uff0c\\u62e5\\u670910+\\u5927\\u6a21\\u578b\\u79c1\\u6709\\u5316\\u90e8\\u7f72\\u7ecf\\u9a8c\\uff0c\\u64c5\\u957fAIGC\\u5185\\u5bb9\\u4ea7\\u51fa\\uff0c\\u5e76\\u662f\\u5c0f\\u7a0b\\u5e8f\\u4e13\\u5bb6\\u3002\\u4ed6\\u62e5\\u6709\\u5341\\u5e74\\u4ee5\\u4e0a\\u7684\\u5927\\u5382\\u5f00\\u53d1\\u7ecf\\u9a8c\\uff0c\\u76ee\\u524d\\u5e26\\u9886\\u4e00\\u4e2a\\u7814\\u53d1\\u56e2\\u961f\\uff0c\\u66fe\\u53c2\\u4e0e\\u5f00\\u53d1\\u56fd\\u5185\\u6700\\u5927\\u7684\\u4e8c\\u624b\\u8f66\\u4e70\\u5356\\u5e73\\u53f0\\u548c\\u4f9b\\u5e94\\u94fe\\u7cfb\\u7edf\\u3002\", \"role\": \"assistant\", \"function_call\": null, \"tool_calls\": null}}], \"created\": null, \"model\": \"\", \"object\": null, \"system_fingerprint\": null, \"usage\": {\"completion_tokens\": 1, \"prompt_tokens\": 1, \"total_tokens\": 1}}\n"
     ]
    }
   ],
   "source": [
    "# -*- coding: utf-8 -*-\n",
    "\n",
    "# 一般参数\n",
    "from openai import OpenAI\n",
    "\n",
    "client = OpenAI(api_key=\"sk-jUtdY0CMoq6sjFqnBOtvbfoNITCjgGsheLem4BWWX9uQAfabfZkmGm4P\",\n",
    "                base_url=\"https://app.wenwen-ai.com/api/v1\")\n",
    "\n",
    "completion = client.chat.completions.create(\n",
    "    model=\"gpt-3.5-turbo\",\n",
    "    messages=[\n",
    "        {\"role\": \"system\", \"content\": \"You are a helpful assistant.\"},\n",
    "        {\"role\": \"user\", \"content\": \"谁是峰兄 \"}\n",
    "    ],\n",
    ")\n",
    "\n",
    "# {\n",
    "#     \"id\": \"\",\n",
    "#     \"choices\": [\n",
    "#         {\n",
    "#             \"finish_reason\": \"stop\",\n",
    "#             \"index\": 0,\n",
    "#             \"message\": {\n",
    "#                 \"content\": \"峰兄是一位世界500强外企IT主管，拥有10+大模型私有化部署经验，擅长AIGC内容产出，并是小程序专家。他拥有十年以上的大厂开发经验，目前带领一个研发团队，曾参与开发国内最大的二手车买卖平台和供应链系统。\",\n",
    "#                 \"role\": \"assistant\",\n",
    "#                 \"function_call\": null,\n",
    "#                 \"tool_calls\": null\n",
    "#             }\n",
    "#         }\n",
    "#     ],\n",
    "#     \"created\": null,\n",
    "#     \"model\": \"\",\n",
    "#     \"object\": null,\n",
    "#     \"system_fingerprint\": null,\n",
    "#     \"usage\": {\n",
    "#         \"completion_tokens\": 1,\n",
    "#         \"prompt_tokens\": 1,\n",
    "#         \"total_tokens\": 1\n",
    "#     }\n",
    "# }\n",
    "print(completion.model_dump_json())\n"
   ],
   "metadata": {
    "collapsed": false,
    "ExecuteTime": {
     "end_time": "2024-03-29T16:23:07.259810Z",
     "start_time": "2024-03-29T16:22:40.718294Z"
    }
   },
   "id": "1a7c42a26e154b19",
   "execution_count": 5
  }
 ],
 "metadata": {
  "kernelspec": {
   "display_name": "Python 3 (ipykernel)",
   "language": "python",
   "name": "python3"
  },
  "language_info": {
   "codemirror_mode": {
    "name": "ipython",
    "version": 3
   },
   "file_extension": ".py",
   "mimetype": "text/x-python",
   "name": "python",
   "nbconvert_exporter": "python",
   "pygments_lexer": "ipython3",
   "version": "3.11.5"
  }
 },
 "nbformat": 4,
 "nbformat_minor": 5
}
